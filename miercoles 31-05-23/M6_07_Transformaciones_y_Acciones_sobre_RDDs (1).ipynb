{
  "cells": [
    {
      "cell_type": "markdown",
      "metadata": {
        "id": "2C0gHZxhzQO4"
      },
      "source": [
        "# RDDs + Programación Funcional"
      ]
    },
    {
      "cell_type": "markdown",
      "metadata": {
        "id": "LVfG6M1yzQO8"
      },
      "source": [
        "# Creamos un contexo para crear RDDs"
      ]
    },
    {
      "cell_type": "code",
      "execution_count": null,
      "metadata": {
        "id": "YnfCdJB5zQO9"
      },
      "outputs": [],
      "source": [
        "import pandas as pd\n",
        "!pip install pyspark --quiet\n",
        "from pyspark import SparkContext\n",
        "sc = SparkContext(master = \"local\", appName = \"Transformaciones sobre un RDD\") "
      ]
    },
    {
      "cell_type": "code",
      "source": [
        "from google.colab import drive\n",
        "drive.mount('/content/drive')"
      ],
      "metadata": {
        "id": "WNRWY2rvWo18",
        "colab": {
          "base_uri": "https://localhost:8080/"
        },
        "outputId": "f12b313b-1876-4edc-83fa-282048606766"
      },
      "execution_count": 2,
      "outputs": [
        {
          "output_type": "stream",
          "name": "stdout",
          "text": [
            "Mounted at /content/drive\n"
          ]
        }
      ]
    },
    {
      "cell_type": "markdown",
      "metadata": {
        "id": "38_UH5CfzQO_"
      },
      "source": [
        "# Cargamos un RDDs\n",
        "\n",
        "Para la realzación del ejercicio, con ayuda del archivo paises, realizaremos el equivalente de operaciones 'select','count','group by' y 'filter / where'\n",
        "\n",
        "Cambia el valor de la ruta para que apunte a la ruta donde tienes los datos"
      ]
    },
    {
      "cell_type": "code",
      "execution_count": 3,
      "metadata": {
        "id": "T-Mj3LYEzQO_",
        "colab": {
          "base_uri": "https://localhost:8080/",
          "height": 217
        },
        "outputId": "fcef8dda-4bb3-4fa2-f912-5382930f69cf"
      },
      "outputs": [
        {
          "output_type": "stream",
          "name": "stdout",
          "text": [
            "Drive already mounted at /content/drive/; to attempt to forcibly remount, call drive.mount(\"/content/drive/\", force_remount=True).\n"
          ]
        },
        {
          "output_type": "error",
          "ename": "NameError",
          "evalue": "ignored",
          "traceback": [
            "\u001b[0;31m---------------------------------------------------------------------------\u001b[0m",
            "\u001b[0;31mNameError\u001b[0m                                 Traceback (most recent call last)",
            "\u001b[0;32m<ipython-input-3-ea35478f6c28>\u001b[0m in \u001b[0;36m<cell line: 4>\u001b[0;34m()\u001b[0m\n\u001b[1;32m      2\u001b[0m \u001b[0mdrive\u001b[0m\u001b[0;34m.\u001b[0m\u001b[0mmount\u001b[0m\u001b[0;34m(\u001b[0m\u001b[0;34m'/content/drive/'\u001b[0m\u001b[0;34m)\u001b[0m\u001b[0;34m\u001b[0m\u001b[0;34m\u001b[0m\u001b[0m\n\u001b[1;32m      3\u001b[0m \u001b[0;31m#LEER CSV\u001b[0m\u001b[0;34m\u001b[0m\u001b[0;34m\u001b[0m\u001b[0m\n\u001b[0;32m----> 4\u001b[0;31m \u001b[0mequiposOlimpicosRDD\u001b[0m \u001b[0;34m=\u001b[0m \u001b[0msc\u001b[0m\u001b[0;34m.\u001b[0m\u001b[0mtextFile\u001b[0m\u001b[0;34m(\u001b[0m\u001b[0;34m\"/content/drive/MyDrive/paises.csv\"\u001b[0m\u001b[0;34m)\u001b[0m\u001b[0;34m.\u001b[0m\u001b[0mmap\u001b[0m\u001b[0;34m(\u001b[0m\u001b[0;32mlambda\u001b[0m \u001b[0mline\u001b[0m \u001b[0;34m:\u001b[0m \u001b[0mline\u001b[0m\u001b[0;34m.\u001b[0m\u001b[0msplit\u001b[0m\u001b[0;34m(\u001b[0m\u001b[0;34m\",\"\u001b[0m\u001b[0;34m)\u001b[0m\u001b[0;34m)\u001b[0m\u001b[0;34m\u001b[0m\u001b[0;34m\u001b[0m\u001b[0m\n\u001b[0m",
            "\u001b[0;31mNameError\u001b[0m: name 'sc' is not defined"
          ]
        }
      ],
      "source": [
        "from google.colab import drive\n",
        "drive.mount('/content/drive/')\n",
        "#LEER CSV\n",
        "equiposOlimpicosRDD = sc.textFile(\"/content/drive/MyDrive/paises.csv\").map(lambda line : line.split(\",\"))"
      ]
    },
    {
      "cell_type": "code",
      "execution_count": null,
      "metadata": {
        "id": "a91H4XHUzQPA",
        "colab": {
          "base_uri": "https://localhost:8080/"
        },
        "outputId": "c1d39a6d-bb5d-4ce3-ddb5-baf710eb4626"
      },
      "outputs": [
        {
          "output_type": "execute_result",
          "data": {
            "text/plain": [
              "[['id', 'equipo', 'sigla'],\n",
              " ['1', '30. Februar', 'AUT'],\n",
              " ['2', 'A North American Team', 'MEX'],\n",
              " ['3', 'Acipactli', 'MEX'],\n",
              " ['4', 'Acturus', 'ARG'],\n",
              " ['5', 'Afghanistan', 'AFG'],\n",
              " ['6', 'Akatonbo', 'IRL'],\n",
              " ['7', 'Alain IV', 'SUI'],\n",
              " ['8', 'Albania', 'ALB'],\n",
              " ['9', 'Alcaid', 'POR']]"
            ]
          },
          "metadata": {},
          "execution_count": 35
        }
      ],
      "source": [
        "equiposOlimpicosRDD.take(10)"
      ]
    },
    {
      "cell_type": "markdown",
      "metadata": {
        "id": "mjPeYZk8DDjf"
      },
      "source": [
        "### Deshacemos un RDD\n",
        "\n",
        "Con ayuda del método `collect()`, permite desparalelizar un RDD. \n"
      ]
    },
    {
      "cell_type": "code",
      "source": [
        "equiposOlimpicosRDD.collect()"
      ],
      "metadata": {
        "id": "jzY0aDY2Daz5",
        "colab": {
          "base_uri": "https://localhost:8080/"
        },
        "outputId": "a519850c-3796-43be-d342-0be0bd0487c2"
      },
      "execution_count": null,
      "outputs": [
        {
          "output_type": "execute_result",
          "data": {
            "text/plain": [
              "[['id', 'equipo', 'sigla'],\n",
              " ['1', '30. Februar', 'AUT'],\n",
              " ['2', 'A North American Team', 'MEX'],\n",
              " ['3', 'Acipactli', 'MEX'],\n",
              " ['4', 'Acturus', 'ARG'],\n",
              " ['5', 'Afghanistan', 'AFG'],\n",
              " ['6', 'Akatonbo', 'IRL'],\n",
              " ['7', 'Alain IV', 'SUI'],\n",
              " ['8', 'Albania', 'ALB'],\n",
              " ['9', 'Alcaid', 'POR'],\n",
              " ['10', 'Alcyon-6', 'FRA'],\n",
              " ['11', 'Alcyon-7', 'FRA'],\n",
              " ['12', 'Aldebaran', 'ITA'],\n",
              " ['13', 'Aldebaran II', 'ITA'],\n",
              " ['14', 'Aletta', 'IRL'],\n",
              " ['15', 'Algeria', 'ALG'],\n",
              " ['16', 'Ali-Baba II', 'SWE'],\n",
              " ['17', 'Ali-Baba IV', 'SUI'],\n",
              " ['18', 'Ali-Baba IX', 'SUI'],\n",
              " ['19', 'Ali-Baba VI', 'SUI'],\n",
              " ['20', 'Allegro', 'FRA'],\n",
              " ['21', 'Almaz', 'URS'],\n",
              " ['22', 'Aloha II', 'SWE'],\n",
              " ['23', 'Amateur Athletic Association', 'AUS'],\n",
              " ['24', 'American Samoa', 'ASA'],\n",
              " ['25', 'Amolgavar', 'ESP'],\n",
              " ['26', 'Amstel Amsterdam', 'NED'],\n",
              " ['27', 'Amulet-3', 'FRA'],\n",
              " ['28', 'Amulet-7', 'FRA'],\n",
              " ['29', 'Ancora', 'GBR'],\n",
              " ['30', 'Andorinha', 'BRA'],\n",
              " ['31', 'Andorra', 'AND'],\n",
              " ['32', 'Andromeda', 'GBR'],\n",
              " ['33', 'Angelita', 'USA'],\n",
              " ['34', 'Angerburg', 'USA'],\n",
              " ['35', 'Angola', 'ANG'],\n",
              " ['36', 'Anitra', 'DEN'],\n",
              " ['37', 'Antares', 'ARG'],\n",
              " ['38', 'Antigua and Barbuda', 'ANT'],\n",
              " ['39', 'Antwerpia V', 'BEL'],\n",
              " ['40', 'Apache', 'NOR'],\n",
              " ['41', 'Aphrodite', 'USA'],\n",
              " ['42', 'Arcturus', 'ARG'],\n",
              " ['43', 'Ardilla', 'ARG'],\n",
              " ['44', 'Aretusa', 'ITA'],\n",
              " ['45', 'Argentina', 'ARG'],\n",
              " ['46', 'Argentina-1', 'ARG'],\n",
              " ['47', 'Argentina-2', 'ARG'],\n",
              " ['48', 'Argeste', 'ITA'],\n",
              " ['49', 'Argo II', 'CAN'],\n",
              " ['50', 'Argonaut Rowing Club', 'CAN'],\n",
              " ['51', 'Argus', 'POR'],\n",
              " ['52', 'Ariel', 'CAN'],\n",
              " ['53', 'Ariette-10', 'FRA'],\n",
              " ['54', 'Ariette-8', 'FRA'],\n",
              " ['55', 'Armenia', 'ARM'],\n",
              " ['56', 'Aruba', 'ARU'],\n",
              " ['57', 'Aschenbrodel', 'GER'],\n",
              " ['58', 'Astrid III', 'FRA'],\n",
              " ['59', 'Atalanta Boat Club-1', 'USA'],\n",
              " ['60', 'Atalanta Boat Club-2', 'USA'],\n",
              " ['61', 'Athens-2', 'GRE'],\n",
              " ['62', 'Atlanta', 'NOR'],\n",
              " ['63', 'Augsburg', 'ITA'],\n",
              " ['64', 'Ausonia', 'ITA'],\n",
              " ['65', 'Australasia', 'ANZ'],\n",
              " ['66', 'Australia', 'AUS'],\n",
              " ['67', 'Australia-1', 'AUS'],\n",
              " ['68', 'Australia-2', 'AUS'],\n",
              " ['69', 'Australia-3', 'AUS'],\n",
              " ['70', 'Australia/Great Britain', 'AUS'],\n",
              " ['71', 'Austria', 'AUT'],\n",
              " ['72', 'Austria-1', 'AUT'],\n",
              " ['73', 'Austria-2', 'AUT'],\n",
              " ['74', 'Azerbaijan', 'AZE'],\n",
              " ['75', 'Babe', 'USA'],\n",
              " ['76', 'Baby-1', 'FRA'],\n",
              " ['77', 'Baby-9', 'FRA'],\n",
              " ['78', 'Baccara', 'SUI'],\n",
              " ['79', '\"Bagatelle Polo Club; Paris\"', 'FRA'],\n",
              " ['80', 'Bahamas', 'BAH'],\n",
              " ['81', 'Bahrain', 'BRN'],\n",
              " ['82', 'Bajazzo', 'URU'],\n",
              " ['83', 'Balaton', 'HUN'],\n",
              " ['84', 'Ballerina IV', 'SUI'],\n",
              " ['85', 'Bamba', 'ITA'],\n",
              " ['86', 'Bangladesh', 'BAN'],\n",
              " ['87', 'Barbados', 'BAR'],\n",
              " ['88', 'Barco Deloro', 'NED'],\n",
              " ['89', 'Barion/Bari-2', 'ITA'],\n",
              " ['90', 'Barrenjoey', 'AUS'],\n",
              " ['91', 'Beatrijs III-1', 'NED'],\n",
              " ['92', 'Beaver', 'GBR'],\n",
              " ['93', 'Belarus', 'BLR'],\n",
              " ['94', 'Belarus-1', 'BLR'],\n",
              " ['95', 'Belarus-2', 'BLR'],\n",
              " ['96', 'Belgium', 'BEL'],\n",
              " ['97', 'Belgium-1', 'BEL'],\n",
              " ['98', 'Belgium-2', 'BEL'],\n",
              " ['99', 'Belgium-3', 'BEL'],\n",
              " ['100', 'Belgium-4', 'BEL'],\n",
              " ['101', 'Belize', 'BIZ'],\n",
              " ['102', 'Bella', 'FIN'],\n",
              " ['103', 'Bellatrix IX', 'GER'],\n",
              " ['104', 'Bellatrix XIII', 'GER'],\n",
              " ['105', 'Bem II', 'NED'],\n",
              " ['106', 'Benin', 'BEN'],\n",
              " ['107', 'Bera', 'NOR'],\n",
              " ['108', 'Berliner Ruderclub', 'GER'],\n",
              " ['109', 'Berliner Ruderclub Sport-Borussia-1', 'GER'],\n",
              " ['110', 'Berliner Ruderverein von 1876-2', 'GER'],\n",
              " ['111', 'Bermuda', 'BER'],\n",
              " ['112', 'Bermudes', 'BER'],\n",
              " ['113', 'Bermudian', 'BER'],\n",
              " ['114', 'Bhutan', 'BHU'],\n",
              " ['115', 'Bim', 'BAH'],\n",
              " ['116', 'Bingo', 'USA'],\n",
              " ['117', 'Bissbi', 'SWE'],\n",
              " ['118', '\"BLO Polo Club; Rugby\"', 'USA'],\n",
              " ['119', 'Blue Red', 'ARG'],\n",
              " ['120', 'Bluebottle', 'GBR'],\n",
              " ['121', 'Boer Team', 'RSA'],\n",
              " ['122', 'Bohemia', 'BOH'],\n",
              " ['123', 'Bohemia-1', 'BOH'],\n",
              " ['124', 'Bohemia-2', 'BOH'],\n",
              " ['125', 'Bohemia-3', 'BOH'],\n",
              " ['126', 'Bohemia/Great Britain', 'BOH'],\n",
              " ['127', 'Bolivia', 'BOL'],\n",
              " ['128', 'Bona Fide', 'GBR'],\n",
              " ['129', 'Bonaparte', 'GER'],\n",
              " ['130', 'Bonzo', 'DEN'],\n",
              " ['131', 'Boreas', 'JPN'],\n",
              " ['132', 'Boreas-2', 'NED'],\n",
              " ['133', 'Bosnia and Herzegovina', 'BIH'],\n",
              " ['134', 'Boston Archers', 'USA'],\n",
              " ['135', 'Botswana', 'BOT'],\n",
              " ['136', 'Brandenburg', 'EST'],\n",
              " ['137', 'Brat', 'GBR'],\n",
              " ['138', 'Brazil', 'BRA'],\n",
              " ['139', 'Brazil-1', 'BRA'],\n",
              " ['140', 'Brazil-2', 'BRA'],\n",
              " ['141', 'Bremen', 'FIN'],\n",
              " ['142', 'Brentina', 'USA'],\n",
              " ['143', 'Breslau', 'AUT'],\n",
              " ['144', 'Briar', 'SWE'],\n",
              " ['145', 'Brigantia', 'AUT'],\n",
              " ['146', 'British Virgin Islands', 'IVB'],\n",
              " ['147', 'Bronia', 'GER'],\n",
              " ['148', 'Brunei', 'BRU'],\n",
              " ['149', 'Brussels Swimming and Water Polo Club', 'BEL'],\n",
              " ['150', 'Brynhild-2', 'GBR'],\n",
              " ['151', 'Bu III', 'BRA'],\n",
              " ['152', 'Bucintoro Venezia', 'ITA'],\n",
              " ['153', 'Bucintoro Venezia-1', 'ITA'],\n",
              " ['154', 'Bulgaria', 'BUL'],\n",
              " ['155', 'Bulgaria-1', 'BUL'],\n",
              " ['156', 'Bulgaria-2', 'BUL'],\n",
              " ['157', 'Buraddoo', 'AUS'],\n",
              " ['158', 'Burevestnik', 'URS'],\n",
              " ['159', 'Burkina Faso', 'BUR'],\n",
              " ['160', 'Burundi', 'BDI'],\n",
              " ['161', 'Buscape II', 'BRA'],\n",
              " ['162', 'Bylina-2', 'RUS'],\n",
              " ['163', 'C.V.A.-14', 'FRA'],\n",
              " ['164', 'C.V.A.-7', 'FRA'],\n",
              " ['165', 'Calcinhas', 'POR'],\n",
              " ['166', 'Calimucho', 'FRA'],\n",
              " ['167', 'Calypse II', 'FRA'],\n",
              " ['168', 'Cambodia', 'CAM'],\n",
              " ['169', 'Cambria', 'AUS'],\n",
              " ['170', 'Cambridge University Boat Club-2', 'GBR'],\n",
              " ['171', 'Camelia', 'POR'],\n",
              " ['172', 'Cameroon', 'CMR'],\n",
              " ['173', 'Camille', 'FRA'],\n",
              " ['174', 'Canada', 'CAN'],\n",
              " ['175', 'Canada-1', 'CAN'],\n",
              " ['176', 'Canada-2', 'CAN'],\n",
              " ['177', 'Canada-3', 'CAN'],\n",
              " ['178', 'Canopus', 'ESP'],\n",
              " ['179', 'Cape Verde', 'CPV'],\n",
              " ['180', 'Caprice', 'CAN'],\n",
              " ['181', 'Carabinier-15', 'FRA'],\n",
              " ['182', 'Carabinier-5', 'FRA'],\n",
              " ['183', 'Cayman Islands', 'CAY'],\n",
              " ['184', 'Central African Republic', 'CAF'],\n",
              " ['185', '\"Central Turnverein; Chicago\"', 'USA'],\n",
              " ['186', 'Century Boat Club-1', 'USA'],\n",
              " ['187', \"Cercle de l'Aviron Roubaix-4\", 'FRA'],\n",
              " ['188', 'Cercle Nautique de Reims-4', 'FRA'],\n",
              " ['189', 'Ceres II', 'GBR'],\n",
              " ['190', 'Cha-Cha III', 'YUG'],\n",
              " ['191', 'Chad', 'CHA'],\n",
              " ['192', 'Chaje II', 'FIN'],\n",
              " ['193', 'Chamukina', 'MEX'],\n",
              " ['194', 'Chance', 'SWE'],\n",
              " ['195', 'Chicago Archers', 'USA'],\n",
              " ['196', 'Chicago Athletic Association', 'USA'],\n",
              " ['197', 'Chicago Athletic Association-2', 'USA'],\n",
              " ['198', 'Chile', 'CHI'],\n",
              " ['199', 'China', 'CHN'],\n",
              " ['200', 'China-1', 'CHN'],\n",
              " ['201', 'China-2', 'CHN'],\n",
              " ['202', 'China-3', 'CHN'],\n",
              " ['203', 'Chinese Taipei', 'TPE'],\n",
              " ['204', 'Chinese Taipei-1', 'TPE'],\n",
              " ['205', 'Chinese Taipei-2', 'TPE'],\n",
              " ['206', 'Chok', 'DEN'],\n",
              " ['207', \"Christian Brothers' College-1\", 'USA'],\n",
              " ['208', 'Chuckles', 'GBR'],\n",
              " ['209', 'Cicely-1', 'GBR'],\n",
              " ['210', 'Cinara-13', 'FRA'],\n",
              " ['211', 'Cincinnati Archers', 'USA'],\n",
              " ['212', 'Ciocca', 'ITA'],\n",
              " ['213', 'Ciocca II', 'ITA'],\n",
              " ['214', 'Ciocca III', 'POR'],\n",
              " ['215', 'Circus', 'WIF'],\n",
              " ['216', 'Ciss', 'BEL'],\n",
              " ['217', 'Clearwater', 'DEN'],\n",
              " ['218', 'Clementine V', 'BRA'],\n",
              " ['219', 'Club Nautique de Dieppe-5', 'FRA'],\n",
              " ['220', 'Club Nautique de Franais-1', 'FRA'],\n",
              " ['221', 'Club Nautique de Lyon-2', 'FRA'],\n",
              " ['222', 'Cobweb-1', 'GBR'],\n",
              " ['223', 'Colette-10', 'FRA'],\n",
              " ['224', 'Colette-12', 'FRA'],\n",
              " ['225', 'Colombia', 'COL'],\n",
              " ['226', 'Comanche', 'USA'],\n",
              " ['227', 'Combine', 'BAH'],\n",
              " ['228', 'Comoros', 'COM'],\n",
              " ['229', 'Compigne Polo Club', 'FRA'],\n",
              " ['230', 'Complex II', 'USA'],\n",
              " ['231', '\"Concordia Turnverein; St Louis\"', 'USA'],\n",
              " ['232', 'Congo (Brazzaville)', 'CGO'],\n",
              " ['233', 'Congo (Kinshasa)', 'COD'],\n",
              " ['234', 'Cook Islands', 'COK'],\n",
              " ['235', 'Cornwall', 'GBR'],\n",
              " ['236', 'Costa Rica', 'CRC'],\n",
              " ['237', \"Cote d'Ivoire\", 'CIV'],\n",
              " ['238', 'Covunco III', 'ARG'],\n",
              " ['239', 'Crabe I-11', 'FRA'],\n",
              " ['240', 'Crabe I-2', 'FRA'],\n",
              " ['241', 'Crabe I-3', 'FRA'],\n",
              " ['242', 'Crabe II-1', 'FRA'],\n",
              " ['243', 'Crabe II-12', 'FRA'],\n",
              " ['244', 'Crabe II-4', 'FRA'],\n",
              " ['245', 'Crete', 'CRT'],\n",
              " ['246', 'Croatia', 'CRO'],\n",
              " ['247', 'Crocodile-11', 'FRA'],\n",
              " ['248', 'Crocodile-13', 'FRA'],\n",
              " ['249', 'Cuba', 'CUB'],\n",
              " ['250', 'Cuba-1', 'CUB'],\n",
              " ['251', 'Cuba-2', 'CUB'],\n",
              " ['252', 'Cupidon III', 'ARG'],\n",
              " ['253', 'Cupidon Viking', 'FRA'],\n",
              " ['254', 'Cuxhaven', 'TUR'],\n",
              " ['255', 'Cyprus', 'CYP'],\n",
              " ['256', 'Czech Republic', 'CZE'],\n",
              " ['257', 'Czech Republic-1', 'CZE'],\n",
              " ['258', 'Czech Republic-2', 'CZE'],\n",
              " ['259', 'Czechoslovakia', 'TCH'],\n",
              " ['260', 'Czechoslovakia-1', 'TCH'],\n",
              " ['261', 'Czechoslovakia-2', 'TCH'],\n",
              " ['262', 'Czechoslovakia-3', 'TCH'],\n",
              " ['263', 'Daisy', 'NED'],\n",
              " ['264', 'Damoiselle', 'FRA'],\n",
              " ['265', 'Damoiselle IV', 'MON'],\n",
              " ['266', 'Danaldo', 'JPN'],\n",
              " ['267', 'Dansk Idrts Forbund', 'DEN'],\n",
              " ['268', 'Danuta', 'POL'],\n",
              " ['269', 'Danzig', 'BEL'],\n",
              " ['270', '\"Davenport Turngemeinde; Davenport\"', 'USA'],\n",
              " ['271', 'Demi-Mondaine-15', 'FRA'],\n",
              " ['272', 'Demi-Mondaine-17', 'FRA'],\n",
              " ['273', 'Denmark', 'DEN'],\n",
              " ['274', 'Denmark-1', 'DEN'],\n",
              " ['275', 'Denmark-2', 'DEN'],\n",
              " ['276', 'Denmark-3', 'DEN'],\n",
              " ['277', 'Denmark-4', 'DEN'],\n",
              " ['278', 'Denmark/Sweden', 'SWE'],\n",
              " ['279', 'DeRuyter', 'NED'],\n",
              " ['280', 'Deutscher Schwimm Verband Berlin', 'GER'],\n",
              " ['281', 'Devon and Somerset Wanderers', 'GBR'],\n",
              " ['282', 'Diablo', 'AUS'],\n",
              " ['283', 'Diabolo St Maurice', 'FRA'],\n",
              " ['284', 'Dick-8', 'FRA'],\n",
              " ['285', 'Digby', 'DEN'],\n",
              " ['286', 'Dinah V', 'GER'],\n",
              " ['287', 'Djibouti', 'DJI'],\n",
              " ['288', 'Djinn', 'ARG'],\n",
              " ['289', 'Dolfijn', 'BEL'],\n",
              " ['290', 'Dominica', 'DMA'],\n",
              " ['291', 'Dominican Republic', 'DOM'],\n",
              " ['292', 'Don Schufro', 'DEN'],\n",
              " ['293', 'Donar III', 'AUT'],\n",
              " ['294', 'Dormy-1', 'GBR'],\n",
              " ['295', 'Dow Jones', 'JPN'],\n",
              " ['296', 'Dresden', 'CAN'],\n",
              " ['297', 'Druzhba', 'URS'],\n",
              " ['298', 'Ducky-16', 'FRA'],\n",
              " ['299', 'Ducky-4', 'FRA'],\n",
              " ['300', 'Dylan-2', 'GBR'],\n",
              " ['301', 'EA II', 'FRA'],\n",
              " ['302', 'East Germany', 'GDR'],\n",
              " ['303', 'East Germany-1', 'GDR'],\n",
              " ['304', 'East Germany-2', 'GDR'],\n",
              " ['305', 'East Germany-3', 'GDR'],\n",
              " ['306', 'Ecuador', 'ECU'],\n",
              " ['307', 'Edelweiss II-1', 'BEL'],\n",
              " ['308', 'Egypt', 'EGY'],\n",
              " ['309', 'Eissero VI', 'FRA'],\n",
              " ['310', 'El Salvador', 'ESA'],\n",
              " ['311', 'Eleda', 'NOR'],\n",
              " ['312', 'Elisabeth V', 'NOR'],\n",
              " ['313', 'Elisabeth X', 'NOR'],\n",
              " ['314', 'Elsie', 'SWE'],\n",
              " ['315', 'Elvis Va', 'GER'],\n",
              " ['316', 'Emily', 'GBR'],\n",
              " ['317', 'Encore', 'NOR'],\n",
              " ['318', 'England', 'GBR'],\n",
              " ['319', 'England-1', 'GBR'],\n",
              " ['320', 'Enotria', 'ITA'],\n",
              " ['321', 'Equatorial Guinea', 'GEQ'],\n",
              " ['322', 'Eritrea', 'ERI'],\n",
              " ['323', 'Erna Signe', 'SWE'],\n",
              " ['324', 'Escapade', 'BRA'],\n",
              " ['325', 'Espadarte', 'POR'],\n",
              " ['326', 'Espardate', 'POR'],\n",
              " ['327', 'Esperia', 'ITA'],\n",
              " ['328', 'Espuma del Mar', 'VEN'],\n",
              " ['329', 'Essen', 'JPN'],\n",
              " ['330', 'Esterel-1', 'FRA'],\n",
              " ['331', 'Estonia', 'EST'],\n",
              " ['332', 'Ethiopia', 'ETH'],\n",
              " ['333', 'Ethnikos Gymnastikos Syllogos', 'GRE'],\n",
              " ['334', 'Evita VI', 'AUT'],\n",
              " ['335', 'Fada', 'FRA'],\n",
              " ['336', 'Falcon IV', 'AUS'],\n",
              " ['337', 'Falcon VI', 'AUS'],\n",
              " ['338', 'Faneca', 'POR'],\n",
              " ['339', 'Fantasio III', 'SUI'],\n",
              " ['340', 'Fantlet-2', 'FRA'],\n",
              " ['341', 'Fantlet-7', 'FRA'],\n",
              " ['342', 'Favorite Hammonia-3', 'GER'],\n",
              " ['343', 'Favorite-1', 'FRA'],\n",
              " ['344', 'Favorite-17', 'FRA'],\n",
              " ['345', 'Federated States of Micronesia', 'FSM'],\n",
              " ['346', 'Femur-1', 'FRA'],\n",
              " ['347', 'Femur-18', 'FRA'],\n",
              " ['348', 'Feo', 'GBR'],\n",
              " ['349', 'Fiji', 'FIJ'],\n",
              " ['350', 'Finland', 'FIN'],\n",
              " ['351', 'Finland-1', 'FIN'],\n",
              " ['352', 'Finland-2', 'FIN'],\n",
              " ['353', 'Finn II', 'FIN'],\n",
              " ['354', 'Firebird II', 'TTO'],\n",
              " ['355', 'Floresco', 'SWE'],\n",
              " ['356', 'Formosa', 'USA'],\n",
              " ['357', 'Fornebo', 'NOR'],\n",
              " ['358', 'Fortuna', 'GBR'],\n",
              " ['359', 'Foxhunters Hurlingham', 'USA'],\n",
              " ['360', 'Fram', 'NOR'],\n",
              " ['361', 'Fram III', 'NOR'],\n",
              " ['362', 'France', 'FRA'],\n",
              " ['363', 'France-1', 'FRA'],\n",
              " ['364', 'France-2', 'FRA'],\n",
              " ['365', 'France-3', 'FRA'],\n",
              " ['366', 'France-4', 'FRA'],\n",
              " ['367', 'France/Great Britain', 'GBR'],\n",
              " ['368', 'Frankfurt Club', 'GER'],\n",
              " ['369', 'Freddy', 'BEL'],\n",
              " ['370', 'Freia-19', 'FRA'],\n",
              " ['371', 'Freia-5', 'FRA'],\n",
              " ['372', 'Freja', 'SWE'],\n",
              " ['373', 'Frieda', 'USA'],\n",
              " ['374', 'Frimousse', 'USA'],\n",
              " ['375', 'Frip IV', 'FRA'],\n",
              " ['376', 'Fruits', 'ESP'],\n",
              " ['377', 'Gabbiano', 'AUS'],\n",
              " ['378', 'Gabon', 'GAB'],\n",
              " ['379', 'Galatea II', 'ITA'],\n",
              " ['380', 'Galejan', 'SWE'],\n",
              " ['381', 'Galerna', 'ESP'],\n",
              " ['382', 'Gallant', 'USA'],\n",
              " ['383', 'Gallia II', 'RUS'],\n",
              " ['384', 'Galopin De La Font', 'POR'],\n",
              " ['385', 'Galopin-20', 'FRA'],\n",
              " ['386', 'Galopin-9', 'FRA'],\n",
              " ['387', 'Galt Football Club', 'CAN'],\n",
              " ['388', 'Gam II', 'FRA'],\n",
              " ['389', 'Gambia', 'GAM'],\n",
              " ['390', 'Gem', 'BAH'],\n",
              " ['391', 'Gem II', 'GBR'],\n",
              " ['392', 'Gem III', 'BAH'],\n",
              " ['393', 'Gem IV', 'BAH'],\n",
              " ['394', 'Gem VII', 'BAH'],\n",
              " ['395', 'Georgia', 'GEO'],\n",
              " ['396', 'Germania II', 'GER'],\n",
              " ['397', '\"Germania Ruder Club; Hamburg\"', 'GER'],\n",
              " ['398', '\"Germania Ruder Club; Hamburg-2\"', 'GER'],\n",
              " ['399', 'Germany', 'GER'],\n",
              " ['400', 'Germany-1', 'GER'],\n",
              " ['401', 'Germany-2', 'GER'],\n",
              " ['402', 'Germany-3', 'GER'],\n",
              " ['403', 'Germany/United States', 'GER'],\n",
              " ['404', 'Ghana', 'GHA'],\n",
              " ['405', 'Gilliatt V', 'FRA'],\n",
              " ['406', 'Girl Pat', 'BEL'],\n",
              " ['407', 'Giselle-6', 'FRA'],\n",
              " ['408', 'Gitana-2', 'FRA'],\n",
              " ['409', 'Gitana-21', 'FRA'],\n",
              " ['410', 'Glider', 'USA'],\n",
              " ['411', 'Glisten', 'CAN'],\n",
              " ['412', 'Gran Gesto', 'CAN'],\n",
              " ['413', 'Great Britain', 'GBR'],\n",
              " ['414', 'Great Britain-1', 'GBR'],\n",
              " ['415', 'Great Britain-2', 'GBR'],\n",
              " ['416', 'Great Britain-3', 'GBR'],\n",
              " ['417', 'Great Britain-4', 'GBR'],\n",
              " ['418', 'Great Britain/Germany', 'GER'],\n",
              " ['419', 'Greece', 'GRE'],\n",
              " ['420', 'Greece-1', 'GRE'],\n",
              " ['421', 'Greece-2', 'GRE'],\n",
              " ['422', 'Greece-3', 'GRE'],\n",
              " ['423', 'Greece-4', 'GRE'],\n",
              " ['424', 'Greenoaks Dundee', 'AUS'],\n",
              " ['425', 'Grenada', 'GRN'],\n",
              " ['426', 'Grifo III', 'POR'],\n",
              " ['427', 'Grifo IV', 'POR'],\n",
              " ['428', 'Grifone', 'ITA'],\n",
              " ['429', 'Gteborgs Roddfrening-2', 'SWE'],\n",
              " ['430', 'Gteborgs Roddklubb-1', 'SWE'],\n",
              " ['431', 'Guam', 'GUM'],\n",
              " ['432', 'Guanahani', 'BAH'],\n",
              " ['433', 'Guatemala', 'GUA'],\n",
              " ['434', 'Guinea', 'GUI'],\n",
              " ['435', 'Guinea Bissau', 'GBS'],\n",
              " ['436', 'Gullvinge', 'ARG'],\n",
              " ['437', 'Gustel V', 'GER'],\n",
              " ['438', 'Gustel X', 'GER'],\n",
              " ['439', 'Gustl XI', 'GER'],\n",
              " ['440', 'Guyana', 'GUY'],\n",
              " ['441', 'Guyoni', 'FRA'],\n",
              " ['442', 'Gwendoline-2', 'FRA'],\n",
              " ['443', 'Gwendoline-22', 'FRA'],\n",
              " ['444', 'GyoshuII', 'CAM'],\n",
              " ['445', 'Gyp-23', 'FRA'],\n",
              " ['446', 'Gyp-6', 'FRA'],\n",
              " ['447', 'Gyrinus-1', 'GBR'],\n",
              " ['448', 'Haiti', 'HAI'],\n",
              " ['449', 'Hakahana', 'RSA'],\n",
              " ['450', 'Hamburg', 'NOR'],\n",
              " ['451', 'Hannover', 'POR'],\n",
              " ['452', 'Harmony', 'NZL'],\n",
              " ['453', 'Hatuey', 'CUB'],\n",
              " ['454', 'Hayama', 'SWE'],\n",
              " ['455', 'Hb-20', 'FRA'],\n",
              " ['456', 'Hb-24', 'FRA'],\n",
              " ['457', 'Heatherbell', 'FIN'],\n",
              " ['458', 'Heidelberg', 'URU'],\n",
              " ['459', 'Heira II', 'NOR'],\n",
              " ['460', 'Helsingfors R. K.', 'FIN'],\n",
              " ['461', 'Hera-1', 'GBR'],\n",
              " ['462', 'Heroine', 'GBR'],\n",
              " ['463', 'Hi-Hi', 'DEN'],\n",
              " ['464', 'Hilarius', 'USA'],\n",
              " ['465', 'Hirondelle', 'MON'],\n",
              " ['466', 'Hojwa', 'SWE'],\n",
              " ['467', 'Holland', 'NED'],\n",
              " ['468', 'Hollandia', 'NED'],\n",
              " ['469', 'Honduras', 'HON'],\n",
              " ['470', 'Hong Kong', 'HKG'],\n",
              " ['471', 'Hong Kong-1', 'HKG'],\n",
              " ['472', 'Hong Kong-2', 'HKG'],\n",
              " ['473', 'Hornet', 'AUS'],\n",
              " ['474', 'Humbug V', 'SWE'],\n",
              " ['475', 'Hungaria', 'HUN'],\n",
              " ['476', 'Hungaria Evezos Egylet', 'HUN'],\n",
              " ['477', 'Hungary', 'HUN'],\n",
              " ['478', 'Hungary-1', 'HUN'],\n",
              " ['479', 'Hungary-2', 'HUN'],\n",
              " ['480', 'Hungary-3', 'HUN'],\n",
              " ['481', 'Hurlingham-2', 'GBR'],\n",
              " ['482', 'Iceland', 'ISL'],\n",
              " ['483', 'Ilderim', 'SWE'],\n",
              " ['484', 'Impala', 'RSA'],\n",
              " ['485', 'Inca', 'BRA'],\n",
              " ['486', 'Independent Rowing Club-3', 'USA'],\n",
              " ['487', 'India', 'IND'],\n",
              " ['488', 'India-1', 'IND'],\n",
              " ['489', 'India-2', 'IND'],\n",
              " ['490', 'Individual Olympic Athletes', 'IOA'],\n",
              " ['491', 'Indonesia', 'INA'],\n",
              " ['492', 'Indonesia-1', 'INA'],\n",
              " ['493', 'Indonesia-2', 'INA'],\n",
              " ['494', 'Inga-Lill XXXXIII', 'FIN'],\n",
              " ['495', 'Ingegerd', 'SWE'],\n",
              " ['496', 'Iran', 'IRI'],\n",
              " ['497', 'Iraq', 'IRQ'],\n",
              " ['498', 'Ireland', 'IRL'],\n",
              " ['499', 'Ireland-1', 'IRL'],\n",
              " ['500', 'Ireland-2', 'IRL'],\n",
              " ['501', 'Ireland-3', 'GBR'],\n",
              " ['502', 'Irene', 'NOR'],\n",
              " ['503', 'Israel', 'ISR'],\n",
              " ['504', 'Israel-1', 'ISR'],\n",
              " ['505', 'Israel-2', 'ISR'],\n",
              " ['506', 'Italia', 'ITA'],\n",
              " ['507', 'Italy', 'ITA'],\n",
              " ['508', 'Italy-1', 'ITA'],\n",
              " ['509', 'Italy-2', 'ITA'],\n",
              " ['510', 'Italy-3', 'ITA'],\n",
              " ['511', 'Jamaica', 'JAM'],\n",
              " ['512', 'Jamaica-1', 'JAM'],\n",
              " ['513', 'Jamaica-2', 'JAM'],\n",
              " ['514', 'Japan', 'JPN'],\n",
              " ['515', 'Japan-1', 'JPN'],\n",
              " ['516', 'Japan-2', 'JPN'],\n",
              " ['517', 'Japan-3', 'JPN'],\n",
              " ['518', 'Jeanette-25', 'FRA'],\n",
              " ['519', 'Jeannette-18', 'FRA'],\n",
              " ['520', 'Jest', 'NZL'],\n",
              " ['521', 'Jet', 'CAN'],\n",
              " ['522', 'Jill', 'DEN'],\n",
              " ['523', 'Jo', 'NOR'],\n",
              " ['524', 'Johan', 'GBR'],\n",
              " ['525', 'John B', 'BAH'],\n",
              " ['526', 'Jordan', 'JOR'],\n",
              " ['527', 'Joy', 'NED'],\n",
              " ['528', 'June Climene', 'SGP'],\n",
              " ['529', 'Jupiter', 'USA'],\n",
              " ['530', 'K Division Metropolitan Police Team-3', 'GBR'],\n",
              " ['531', 'K.S.S.S. 1912-2', 'SWE'],\n",
              " ['532', 'Kalayaan', 'PHI'],\n",
              " ['533', 'Kannibaltje', 'FRA'],\n",
              " ['534', 'Kathleen', 'USA'],\n",
              " ['535', 'Kazakhstan', 'KAZ'],\n",
              " ['536', 'Kemphaan', 'NED'],\n",
              " ['537', 'Kenya', 'KEN'],\n",
              " ['538', 'Kerstin-1', 'SWE'],\n",
              " ['539', 'Kiel', 'DEN'],\n",
              " ['540', 'Kingfisher', 'MYA'],\n",
              " ['541', 'Kiribati', 'KIR'],\n",
              " ['542', 'Kitty-1', 'SWE'],\n",
              " ['543', 'Kln', 'SUI'],\n",
              " ['544', 'Knigsberg', 'HUN'],\n",
              " ['545', 'KNS', 'NOR'],\n",
              " ['546', 'Kon-Tiki', 'URS'],\n",
              " ['547', 'Konstanz', 'YUG'],\n",
              " ['548', 'Korshun', 'URS'],\n",
              " ['549', 'Kosovo', 'KOS'],\n",
              " ['550', 'Kristiania Roklub', 'NOR'],\n",
              " ['551', 'Kristiania Roklub-1', 'NOR'],\n",
              " ['552', 'Kuling', 'SWE'],\n",
              " ['553', 'Kullan', 'SWE'],\n",
              " ['554', 'Kurush II', 'CUB'],\n",
              " ['555', 'Kurush IV', 'CUB'],\n",
              " ['556', 'Kuwait', 'KUW'],\n",
              " ['557', 'Kyrgyzstan', 'KGZ'],\n",
              " ['558', \"L'Aile VI\", 'FRA'],\n",
              " ['559', '\"La Salle Turnverein; Chicago\"', 'USA'],\n",
              " ['560', 'LaBandera', 'FRA'],\n",
              " ['561', 'Lady C', 'GBR'],\n",
              " ['562', 'Lalage', 'GBR'],\n",
              " ['563', 'Lancet', 'GBR'],\n",
              " ['564', 'Laos', 'LAO'],\n",
              " ['565', '\"Large boat; Central Naval Prep School \"\"Poros\"\"-1\"', 'GRE'],\n",
              " ['566', 'Lasha', 'SWE'],\n",
              " ['567', 'Latvia', 'LAT'],\n",
              " ['568', 'Latvia-1', 'LAT'],\n",
              " ['569', 'Latvia-2', 'LAT'],\n",
              " ['570', 'Laurea-1', 'GBR'],\n",
              " ['571', 'Lbeck', 'BRA'],\n",
              " ['572', 'Leander Club #1-1', 'GBR'],\n",
              " ['573', 'Leander Club #2-2', 'GBR'],\n",
              " ['574', 'Leander Club-1', 'GBR'],\n",
              " ['575', 'Leander Club-2', 'GBR'],\n",
              " ['576', 'Lebanon', 'LIB'],\n",
              " ['577', 'Legionario', 'ITA'],\n",
              " ['578', 'Leipzig', 'FRA'],\n",
              " ['579', '\"Lemzos Thorichton \"\"Psara\"\"-3\"', 'GRE'],\n",
              " ['580', '\"Lemzos Thorichton \"\"Spetsai\"\"-4\"', 'GRE'],\n",
              " ['581', 'Lerina', 'SUI'],\n",
              " ['582', 'Lesotho', 'LES'],\n",
              " ['583', 'Lett', 'NOR'],\n",
              " ['584', 'Libellule de Paris', 'FRA'],\n",
              " ['585', 'Libellule de Paris-3', 'FRA'],\n",
              " ['586', 'Liberia', 'LBR'],\n",
              " ['587', 'Libya', 'LBA'],\n",
              " ['588', 'Liechtenstein', 'LIE'],\n",
              " ['589', '\"Life boat naval ship \"\"Spetsai\"\"-1\"', 'GRE'],\n",
              " ['590', 'Linglom', 'THA'],\n",
              " ['591', 'Lithuania', 'LTU'],\n",
              " ['592', 'Liverpool Police Team-2', 'GBR'],\n",
              " ['593', 'Llanoria', 'USA'],\n",
              " ['594', 'London City Police-1', 'GBR'],\n",
              " ['595', 'Lotta IV', 'SWE'],\n",
              " ['596', 'Lucky', 'NOR'],\n",
              " ['597', 'Lucky Girl-1', 'FIN'],\n",
              " ['598', 'Lucky Star', 'FIN'],\n",
              " ['599', 'Ludwigshafener Ruder Verein-1', 'GER'],\n",
              " ['600', 'Ludwigshafener Ruderverein', 'GER'],\n",
              " ['601', 'Lully II', 'NOR'],\n",
              " ['602', 'Luxembourg', 'LUX'],\n",
              " ['603', 'Luxembourg-1', 'LUX'],\n",
              " ['604', 'Luxembourg-2', 'LUX'],\n",
              " ['605', 'Lyn-2', 'NOR'],\n",
              " ['606', 'Lynn', 'FIN'],\n",
              " ['607', \"Ma'Lindo\", 'POR'],\n",
              " ['608', 'Mac Miche', 'FRA'],\n",
              " ['609', 'Macedonia', 'MKD'],\n",
              " ['610', 'Macky VI', 'GER'],\n",
              " ['611', 'Mad Dog', 'CAN'],\n",
              " ['612', 'Madagascar', 'MAD'],\n",
              " ['613', 'Magda IX', 'NOR'],\n",
              " ['614', 'Magdalen College Boat Club-1', 'GBR'],\n",
              " ['615', 'Maid of Lebanon', 'LIB'],\n",
              " ['616', 'Mainz', 'CHI'],\n",
              " ['617', 'Malawi', 'MAW'],\n",
              " ['618', 'Malaya', 'MAL'],\n",
              " ['619', 'Malaysia', 'MAS'],\n",
              " ['620', 'Malaysia-1', 'MAS'],\n",
              " ['621', 'Malaysia-2', 'MAS'],\n",
              " ['622', 'Maldives', 'MDV'],\n",
              " ['623', 'Mali', 'MLI'],\n",
              " ['624', 'Malta', 'MLT'],\n",
              " ['625', 'Mamie-4', 'FRA'],\n",
              " ['626', 'Mamie-6', 'FRA'],\n",
              " ['627', 'Manana', 'CAN'],\n",
              " ['628', 'Marga-2', 'SWE'],\n",
              " ['629', 'Margaret', 'USA'],\n",
              " ['630', 'Mari', 'SWE'],\n",
              " ['631', 'Marie-Tim', 'GRE'],\n",
              " ['632', '\"Marinai della nave da guerra \"\"Varese\"\"\"', 'ITA'],\n",
              " ['633', 'Marmara', 'TUR'],\n",
              " ['634', 'Marmi II-1', 'NOR'],\n",
              " ['635', 'Marshall Islands', 'MHL'],\n",
              " ['636', 'Marsouin-26', 'FRA'],\n",
              " ['637', 'Marsouin-8', 'FRA'],\n",
              " ['638', 'Martha-1', 'FRA'],\n",
              " ['639', 'Martha-27', 'FRA'],\n",
              " ['640', 'Maryke', 'AUS'],\n",
              " ['641', 'Mascaret-28', 'FRA'],\n",
              " ['642', 'Mascaret-4', 'FRA'],\n",
              " ['643', 'Mascotte', 'NED'],\n",
              " ['644', 'Matrero II', 'ARG'],\n",
              " ['645', 'Mauritania', 'MTN'],\n",
              " ['646', 'Mauritius', 'MRI'],\n",
              " ['647', 'Mauritius-1', 'MRI'],\n",
              " ['648', 'Mauritius-2', 'MRI'],\n",
              " ['649', 'May Be', 'SWE'],\n",
              " ['650', 'May Be VII', 'SWE'],\n",
              " ['651', 'May-Be 1960', 'AUT'],\n",
              " ['652', 'Mebi', 'ITA'],\n",
              " ['653', 'Merope', 'ITA'],\n",
              " ['654', 'Merope III', 'ITA'],\n",
              " ['655', 'Meteor', 'BEL'],\n",
              " ['656', 'Mexico', 'MEX'],\n",
              " ['657', 'Mexico-1', 'MEX'],\n",
              " ['658', 'Mexico-2', 'MEX'],\n",
              " ['659', 'Mignon-29', 'FRA'],\n",
              " ['660', 'Mignon-3', 'FRA'],\n",
              " ['661', 'Milwaukee Athletic Club-1', 'USA'],\n",
              " ['662', '\"Milwaukee Turnverein; Milwaukee\"', 'USA'],\n",
              " ['663', 'Minerva Amsterdam', 'NED'],\n",
              " ['664', 'Minotaur', 'USA'],\n",
              " ['665', 'Mirtala', 'ITA'],\n",
              " ['666', 'Miss Denmark 1964', 'DEN'],\n",
              " ['667', 'Miss Nippon IV', 'JAM'],\n",
              " ['668', 'Miss Nippon V', 'JPN'],\n",
              " ['669', 'Missouri Athletic Club-3', 'USA'],\n",
              " ['670', 'Mistral Hojris', 'GBR'],\n",
              " ['671', 'MitaII', 'JPN'],\n",
              " ['672', 'Mizar', 'ARG'],\n",
              " ['673', 'Mohawk Indians-2', 'CAN'],\n",
              " ['674', 'Moldova', 'MDA'],\n",
              " ['675', 'Monaco', 'MON'],\n",
              " ['676', 'Monaco-1', 'MON'],\n",
              " ['677', 'Monaco-2', 'MON'],\n",
              " ['678', 'Mongolia', 'MGL'],\n",
              " ['679', 'Monica', 'NOR'],\n",
              " ['680', 'Montenegro', 'MNE'],\n",
              " ['681', 'Moorina', 'AUS'],\n",
              " ['682', 'Morena', 'DEN'],\n",
              " ['683', 'Morocco', 'MAR'],\n",
              " ['684', 'Moseley Wanderers', 'GBR'],\n",
              " ['685', 'Mosk II', 'NOR'],\n",
              " ['686', 'Mouchette-2', 'GBR'],\n",
              " ['687', 'Mound City Rowing Club-2', 'USA'],\n",
              " ['688', 'Mozambique', 'MOZ'],\n",
              " ['689', 'Mutafo', 'GER'],\n",
              " ['690', 'Myanmar', 'MYA'],\n",
              " ['691', 'Myojo', 'JPN'],\n",
              " ['692', 'Mystery', 'USA'],\n",
              " ['693', 'Mythilus', 'USA'],\n",
              " ['694', 'Nadine', 'NED'],\n",
              " ['695', 'Naiad', 'AUS'],\n",
              " ['696', 'Namibia', 'NAM'],\n",
              " ['697', 'Namoussa', 'FRA'],\n",
              " ['698', 'Nan-2', 'GBR'],\n",
              " ['699', 'Nauru', 'NRU'],\n",
              " ['700', 'Nausikaa 4', 'MEX'],\n",
              " ['701', 'Nautikos Omilos-3', 'GRE'],\n",
              " ['702', 'Nepal', 'NEP'],\n",
              " ['703', 'Nephos I', 'GRE'],\n",
              " ['704', 'Neptun II', 'URS'],\n",
              " ['705', 'Netherlands', 'NED'],\n",
              " ['706', 'Netherlands Antilles', 'AHO'],\n",
              " ['707', 'Netherlands-1', 'NED'],\n",
              " ['708', 'Netherlands-2', 'NED'],\n",
              " ['709', '\"New College; Oxford-2\"', 'GBR'],\n",
              " ['710', 'New York Athletic Club', 'USA'],\n",
              " ['711', 'New York Athletic Club #1-1', 'USA'],\n",
              " ['712', 'New York Athletic Club #2-4', 'USA'],\n",
              " ['713', 'New York Athletic Club-1', 'USA'],\n",
              " ['714', 'New York Athletic Club-4', 'USA'],\n",
              " ['715', '\"New York Turnverein; New York\"', 'USA'],\n",
              " ['716', 'New Zealand', 'NZL'],\n",
              " ['717', 'New Zealand-1', 'NZL'],\n",
              " ['718', 'New Zealand-2', 'NZL'],\n",
              " ['719', 'Newfoundland', 'NFL'],\n",
              " ['720', 'Nicaragua', 'NCA'],\n",
              " ['721', 'Niger', 'NIG'],\n",
              " ['722', 'Nigeria', 'NGR'],\n",
              " ['723', 'Nigeria-1', 'NGR'],\n",
              " ['724', 'Nigeria-2', 'NGR'],\n",
              " ['725', 'Nikh', 'GRE'],\n",
              " ['726', 'Nina', 'FIN'],\n",
              " ['727', 'Nina Claire-2', 'FRA'],\n",
              " ['728', 'Nina Claire-30', 'FRA'],\n",
              " ['729', 'Nirefs', 'GRE'],\n",
              " ['730', 'Nirwana', 'GER'],\n",
              " ['731', 'Nokaut II', 'URS'],\n",
              " ['732', 'Nora', 'NOR'],\n",
              " ['733', 'Noreg', 'NOR'],\n",
              " ['734', 'Norman-1', 'RUS'],\n",
              " ['735', 'Norna', 'NOR'],\n",
              " ['736', 'Nortazo', 'URU'],\n",
              " ['737', 'North Borneo', 'NBO'],\n",
              " ['738', 'North Korea', 'PRK'],\n",
              " ['739', 'North Korea-1', 'PRK'],\n",
              " ['740', 'North Korea-2', 'PRK'],\n",
              " ['741', 'North Yemen', 'YAR'],\n",
              " ['742', 'Norway', 'NOR'],\n",
              " ['743', 'Norway-1', 'NOR'],\n",
              " ['744', 'Norway-2', 'NOR'],\n",
              " ['745', 'Norway-3', 'NOR'],\n",
              " ['746', 'Norwegian Rowing Association', 'NOR'],\n",
              " ['747', '\"Norwegier Turnverein; Brooklyn\"', 'USA'],\n",
              " ['748', 'Notavel', 'POR'],\n",
              " ['749', 'Nrnberg', 'NED'],\n",
              " ['750', 'Nurdug II', 'DEN'],\n",
              " ['751', 'Nykjbings paa Falster', 'DEN'],\n",
              " ['752', 'Oleander II', 'BER'],\n",
              " ['753', 'Oleander XII', 'BER'],\n",
              " ['754', 'Olen', 'URS'],\n",
              " ['755', 'Olimpia', 'HUN'],\n",
              " ['756', 'Olle', 'FRA'],\n",
              " ['757', 'Olympion', 'GRE'],\n",
              " ['758', 'Oman', 'OMA'],\n",
              " ['759', 'Omas Helliniki P. S.', 'GRE'],\n",
              " ['760', 'Omilos Ereton Peiraios-2', 'GRE'],\n",
              " ['761', 'Omilos Ereton Smyrnis', 'GRE'],\n",
              " ['762', 'Oranje', 'NED'],\n",
              " ['763', 'Orion', 'CAN'],\n",
              " ['764', 'Ormsund Roklub-2', 'NOR'],\n",
              " ['765', '\"Osborne Swimming Club; Manchester\"', 'GBR'],\n",
              " ['766', 'Oxalis', 'POR'],\n",
              " ['767', 'Paka', 'GBR'],\n",
              " ['768', 'Paka V', 'GER'],\n",
              " ['769', 'Pakaria', 'AUS'],\n",
              " ['770', 'Pakistan', 'PAK'],\n",
              " ['771', 'Palau', 'PLW'],\n",
              " ['772', 'Palestine', 'PLE'],\n",
              " ['773', 'Pam', 'BER'],\n",
              " ['774', 'Pampero', 'ARG'],\n",
              " ['775', 'Pan', 'NOR'],\n",
              " ['776', 'Pan II', 'NOR'],\n",
              " ['777', 'Pan-Hellenic Athletic Club', 'GRE'],\n",
              " ['778', 'Panama', 'PAN'],\n",
              " ['779', 'Pandora', 'NZL'],\n",
              " ['780', 'Panhellenios Gymnastikos Syllogos-1', 'GRE'],\n",
              " ['781', 'Pannonia RC/National RC', 'HUN'],\n",
              " ['782', 'Papua New Guinea', 'PNG'],\n",
              " ['783', 'Paraguay', 'PAR'],\n",
              " ['784', 'Partenope', 'INA'],\n",
              " ['785', 'Pasodoble', 'ESP'],\n",
              " ['786', '\"Passaic Turnverein; Passaic\"', 'USA'],\n",
              " ['787', 'Patricia', 'PHI'],\n",
              " ['788', 'Paula', 'AUS'],\n",
              " ['789', 'Pegaso', 'ITA'],\n",
              " ['790', 'Peiraikos Syndesmos-2', 'GRE'],\n",
              " ['791', 'Peri', 'RHO'],\n",
              " ['792', 'Peri II', 'ZIM'],\n",
              " ['793', 'Persey', 'URS'],\n",
              " ['794', 'Peru', 'PER'],\n",
              " ['795', 'Pettit-Poucet-6', 'FRA'],\n",
              " ['796', '\"Phalainis ton Thorichtou \"\"Hydra\"\"-2\"', 'GRE'],\n",
              " ['797', '\"Phalainis ton Thorichtou \"\"Psara\"\"-3\"', 'GRE'],\n",
              " ['798', '\"Philadelphia Turngemeinde; Philadelphia\"', 'USA'],\n",
              " ['799', 'Philippines', 'PHI'],\n",
              " ['800', 'Phoenix', 'HKG'],\n",
              " ['801', 'Pierre et Jean-3', 'FRA'],\n",
              " ['802', 'Pierre et Jean-4', 'FRA'],\n",
              " ['803', 'Pigoule', 'FRA'],\n",
              " ['804', 'Pimm', 'BRA'],\n",
              " ['805', 'Pirouette-31', 'FRA'],\n",
              " ['806', 'Pirouette-5', 'FRA'],\n",
              " ['807', 'Pistoja/Firenze', 'ITA'],\n",
              " ['808', 'Plume-patte-32', 'FRA'],\n",
              " ['809', 'Plume-Patte-5', 'FRA'],\n",
              " ['810', 'Poland', 'POL'],\n",
              " ['811', 'Poland-1', 'POL'],\n",
              " ['812', 'Poland-2', 'POL'],\n",
              " ['813', 'Poland-3', 'POL'],\n",
              " ['814', 'Polyteknisk Roklub-1', 'DEN'],\n",
              " ['815', 'Pop Art', 'CAN'],\n",
              " ['816', 'Portugal', 'POR'],\n",
              " ['817', 'Portugal-1', 'POR'],\n",
              " ['818', 'Portugal-2', 'POR'],\n",
              " ['819', 'Posillipo III', 'ESP'],\n",
              " ['820', 'Potomac Archers', 'USA'],\n",
              " ['821', 'Potsdam', 'GBR'],\n",
              " ['822', 'Pousse-Moi Pas VII', 'SUI'],\n",
              " ['823', 'Primorka', 'YUG'],\n",
              " ['824', 'Proteus II', 'GRE'],\n",
              " ['825', 'Puerto Rico', 'PUR'],\n",
              " ['826', 'Puerto Rico-1', 'PUR'],\n",
              " ['827', 'Puerto Rico-2', 'PUR'],\n",
              " ['828', 'Pupilles de Neptune de Lille #1-3', 'FRA'],\n",
              " ['829', 'Pupilles de Neptune de Lille #2-1', 'FRA'],\n",
              " ['830', 'Pupilles de Neptune de Lille-1', 'FRA'],\n",
              " ['831', 'Qatar', 'QAT'],\n",
              " ['832', \"Qu'Importe\", 'FRA'],\n",
              " ['833', 'Quand-Mme-2', 'FRA'],\n",
              " ['834', 'Quand-Mme-33', 'FRA'],\n",
              " ['835', 'Quando Quando', 'AUS'],\n",
              " ['836', 'Quicksilver-2', 'GBR'],\n",
              " ['837', '\"R.-V. Germania; Leitmeritz\"', 'AUT'],\n",
              " ['838', 'Racing Club de France', 'FRA'],\n",
              " ['839', 'Raili', 'FIN'],\n",
              " ['840', 'Ral-Club Barcelona', 'ESP'],\n",
              " ['841', 'Ralia', 'FIN'],\n",
              " ['842', 'Rambo', 'JPN'],\n",
              " ['843', 'Rampage', 'ARG'],\n",
              " ['844', 'Ravel', 'USA'],\n",
              " ['845', 'Ravenswood Boat Club-2', 'USA'],\n",
              " ['846', 'Red Dragon', 'NZL'],\n",
              " ['847', 'Red Indian', 'FRA'],\n",
              " ['848', 'Refugee Olympic Athletes', 'ROT'],\n",
              " ['849', 'Relampago', 'AUS'],\n",
              " ['850', 'Rhodesia', 'RHO'],\n",
              " ['851', 'Rhythm', 'USA'],\n",
              " ['852', 'Riccar', 'JPN'],\n",
              " ['853', 'Rififi', 'FIN'],\n",
              " ['854', 'Rika II', 'SGP'],\n",
              " ['855', 'rn-2', 'FIN'],\n",
              " ['856', 'Roddklubben af 1912-1', 'SWE'],\n",
              " ['857', 'Roddklubben af 1912-2', 'SWE'],\n",
              " ['858', 'Roehampton-1', 'GBR'],\n",
              " ['859', 'Roklubb Kbnhavn-2', 'DEN'],\n",
              " ['860', 'Roma', 'ITA'],\n",
              " ['861', 'Romania', 'ROU'],\n",
              " ['862', 'Romania-1', 'ROU'],\n",
              " ['863', 'Romania-2', 'ROU'],\n",
              " ['864', 'Romolo', 'ITA'],\n",
              " ['865', 'Rose Pompon', 'FRA'],\n",
              " ['866', 'Rostock', 'GER'],\n",
              " ['867', 'Rowing Club Castillon-3', 'FRA'],\n",
              " ['868', 'Roy', 'JPN'],\n",
              " ['869', 'Royal Club Nautique de Gand', 'BEL'],\n",
              " ['870', 'Rozenn-3', 'FRA'],\n",
              " ['871', 'Rush IV', 'USA'],\n",
              " ['872', 'Rush V', 'SWE'],\n",
              " ['873', 'Rush VII', 'SWE'],\n",
              " ['874', 'Russia', 'RUS'],\n",
              " ['875', 'Russia-1', 'RUS'],\n",
              " ['876', 'Russia-2', 'RUS'],\n",
              " ['877', 'Russia-3', 'RUS'],\n",
              " ['878', 'Rwanda', 'RWA'],\n",
              " ['879', 'Saar', 'SAA'],\n",
              " ['880', 'Sabre', 'GBR'],\n",
              " ['881', 'Saga-2', 'SWE'],\n",
              " ['882', 'SagaII', 'CAN'],\n",
              " ['883', 'Saint Kitts and Nevis', 'SKN'],\n",
              " ['884', 'Saint Lucia', 'LCA'],\n",
              " ['885', 'Saint Vincent and the Grenadines', 'VIN'],\n",
              " ['886', 'Salamander', 'GBR'],\n",
              " ['887', 'Salinero', 'NED'],\n",
              " ['888', 'Samoa', 'SAM'],\n",
              " ['889', 'San Marino', 'SMR'],\n",
              " ['890', 'Sandra', 'FRA'],\n",
              " ['891', 'Sans Atout-1', 'SWE'],\n",
              " ['892', 'Santa Maria', 'CAN'],\n",
              " ['893', 'Sao Tome and Principe', 'STP'],\n",
              " ['894', 'Sarcelle-3', 'FRA'],\n",
              " ['895', 'Sarcelle-35', 'FRA'],\n",
              " ['896', 'Saskia', 'GBR'],\n",
              " ['897', 'Sass-2', 'SWE'],\n",
              " ['898', 'Satchmo', 'GER'],\n",
              " ['899', 'Saudi Arabia', 'KSA'],\n",
              " ['900', 'Scamasaxe-2', 'FRA'],\n",
              " ['901', 'Scamasaxe-3', 'FRA'],\n",
              " ['902', 'Scamasaxe-34', 'FRA'],\n",
              " ['903', 'Scaup', 'CAN'],\n",
              " ['904', 'Scotia', 'GBR'],\n",
              " ['905', 'Scotland', 'GBR'],\n",
              " ['906', 'Scotland-2', 'GBR'],\n",
              " ['907', 'Scotland-3', 'GBR'],\n",
              " ['908', 'Scram', 'CAN'],\n",
              " ['909', 'Sea Dog-2', 'GBR'],\n",
              " ['910', 'Seawanhaka Boat Club-1', 'USA'],\n",
              " ['911', 'Senegal', 'SEN'],\n",
              " ['912', 'Serbia', 'SRB'],\n",
              " ['913', 'Serbia and Montenegro', 'SCG'],\n",
              " ['914', 'Serbia-1', 'SRB'],\n",
              " ['915', 'Serbia-2', 'SRB'],\n",
              " ['916', 'Serendipity', 'CAN'],\n",
              " ['917', 'Seychelles', 'SEY'],\n",
              " ['918', 'Sheerio', 'FIN'],\n",
              " ['919', 'Shoveller', 'RSA'],\n",
              " ['920', 'Shrew II', 'USA'],\n",
              " ['921', 'Siames-Cat', 'THA'],\n",
              " ['922', 'Sibindi-2', 'GBR'],\n",
              " ['923', 'Sidi Fekkar-36', 'FRA'],\n",
              " ['924', 'Sidi-Fekkar-14', 'FRA'],\n",
              " ['925', 'Sierra Leone', 'SLE'],\n",
              " ['926', 'Sif', 'SWE'],\n",
              " ['927', 'Sildra-1', 'NOR'],\n",
              " ['928', 'Silja', 'NOR'],\n",
              " ['929', 'Singapore', 'SGP'],\n",
              " ['930', 'Singapore-1', 'SGP'],\n",
              " ['931', 'Singapore-2', 'SGP'],\n",
              " ['932', 'Singy-37', 'FRA'],\n",
              " ['933', 'Singy-7', 'FRA'],\n",
              " ['934', 'Sirene', 'NOR'],\n",
              " ['935', 'Sjhxa', 'POR'],\n",
              " ['936', 'Sjovinge', 'SWE'],\n",
              " ['937', 'Skidoo', 'USA'],\n",
              " ['938', 'Skum', 'DEN'],\n",
              " ['939', 'Slaghoken', 'SWE'],\n",
              " ['940', 'Slaghoken II', 'SWE'],\n",
              " ['941', 'Slovakia', 'SVK'],\n",
              " ['942', 'Slovakia-1', 'SVK'],\n",
              " ['943', 'Slovakia-2', 'SVK'],\n",
              " ['944', 'Slovenia', 'SLO'],\n",
              " ['945', 'Slovenia-1', 'SLO'],\n",
              " ['946', 'Slovenia-2', 'SLO'],\n",
              " ['947', 'Smyrna', 'GBR'],\n",
              " ['948', 'Snap', 'DEN'],\n",
              " ['949', 'Snowten III', 'FRA'],\n",
              " ['950', 'Snude', 'DEN'],\n",
              " ['951', '\"Socialer Turnverein; Detroit\"', 'USA'],\n",
              " ['952', 'Societ Nautique de la Marne', 'FRA'],\n",
              " ['953', 'Societ Nautique de la Marne-1', 'FRA'],\n",
              " ['954', 'Societ Nautique de la Marne-3', 'FRA'],\n",
              " ['955', 'Socit Nautique de Bayonne', 'FRA'],\n",
              " ['956', 'Socit Nautique de Bayonne-1', 'FRA'],\n",
              " ['957', 'Socit Nautique de Bayonne-2', 'FRA'],\n",
              " ['958', 'Socit Nautique de la Basse Seine-1', 'FRA'],\n",
              " ['959', 'Socit Nautique de la Basse Seine-2', 'FRA'],\n",
              " ['960', 'Solomon Islands', 'SOL'],\n",
              " ['961', 'Solos Carex', 'SWE'],\n",
              " ['962', 'Somalia', 'SOM'],\n",
              " ['963', 'Sonja II', 'NOR'],\n",
              " ['964', 'Sorais-2', 'GBR'],\n",
              " ['965', 'Souriceau-38', 'FRA'],\n",
              " ['966', 'Souriceau-4', 'FRA'],\n",
              " ['967', 'South Africa', 'RSA'],\n",
              " ['968', 'South Africa-1', 'RSA'],\n",
              " ['969', 'South Africa-2', 'RSA'],\n",
              " ['970', 'South Korea', 'KOR'],\n",
              " ['971', 'South Korea-1', 'KOR'],\n",
              " ['972', 'South Korea-2', 'KOR'],\n",
              " ['973', '\"South St Louis Turnverein; St Louis\"', 'USA'],\n",
              " ['974', 'South Sudan', 'SSD'],\n",
              " ['975', 'South Vietnam', 'VNM'],\n",
              " ['976', 'South Yemen', 'YMD'],\n",
              " ['977', 'Souvenance', 'FRA'],\n",
              " ['978', 'Soviet Union', 'URS'],\n",
              " ['979', 'Soviet Union-1', 'URS'],\n",
              " ['980', 'Soviet Union-2', 'URS'],\n",
              " ['981', 'Soviet Union-3', 'URS'],\n",
              " ['982', 'Spain', 'ESP'],\n",
              " ['983', 'Spain-1', 'ESP'],\n",
              " ['984', 'Spain-2', 'ESP'],\n",
              " ['985', 'Spirit III', 'USA'],\n",
              " ['986', 'Spirit VI', 'USA'],\n",
              " ['987', 'Springbok', 'RSA'],\n",
              " ['988', 'Squid III', 'FIN'],\n",
              " ['989', 'Sri Lanka', 'SRI'],\n",
              " ['990', 'St. Louis Amateur Athletic Association', 'USA'],\n",
              " ['991', 'St. Louis Southwest Turnverein #1-2', 'USA'],\n",
              " ['992', 'St. Louis Southwest Turnverein #2-3', 'USA'],\n",
              " ['993', 'St. Margrite', 'NED'],\n",
              " ['994', 'St. Rose-2', 'USA'],\n",
              " ['995', 'Stade Franais AC-2', 'FRA'],\n",
              " ['996', 'Starita', 'NED'],\n",
              " ['997', 'Starlight III', 'GBR'],\n",
              " ['998', 'State VI', 'CAN'],\n",
              " ['999', 'Stella-2', 'NOR'],\n",
              " ...]"
            ]
          },
          "metadata": {},
          "execution_count": 36
        }
      ]
    },
    {
      "cell_type": "markdown",
      "source": [
        "Creamos un dataframe a partir de un RDD mediante `pd.DataFrame()` "
      ],
      "metadata": {
        "id": "SAGUptZuDcx_"
      }
    },
    {
      "cell_type": "code",
      "source": [
        "pd.DataFrame(equiposOlimpicosRDD.collect()[1:], columns = equiposOlimpicosRDD.collect()[0] )"
      ],
      "metadata": {
        "colab": {
          "base_uri": "https://localhost:8080/",
          "height": 424
        },
        "id": "Mio-IxZn1Qn5",
        "outputId": "3a72aeac-0dd2-4f89-8fe5-c65b79fe618b"
      },
      "execution_count": null,
      "outputs": [
        {
          "output_type": "execute_result",
          "data": {
            "text/plain": [
              "        id                 equipo sigla\n",
              "0        1            30. Februar   AUT\n",
              "1        2  A North American Team   MEX\n",
              "2        3              Acipactli   MEX\n",
              "3        4                Acturus   ARG\n",
              "4        5            Afghanistan   AFG\n",
              "...    ...                    ...   ...\n",
              "1179  1180           Yugoslavia-2   YUG\n",
              "1180  1181                 Zambia   ZAM\n",
              "1181  1182                Zefyros   GRE\n",
              "1182  1183               Zimbabwe   ZIM\n",
              "1183  1184                    Zut   BEL\n",
              "\n",
              "[1184 rows x 3 columns]"
            ],
            "text/html": [
              "\n",
              "  <div id=\"df-df15f9da-f729-4eb8-9f24-026c2295faf4\">\n",
              "    <div class=\"colab-df-container\">\n",
              "      <div>\n",
              "<style scoped>\n",
              "    .dataframe tbody tr th:only-of-type {\n",
              "        vertical-align: middle;\n",
              "    }\n",
              "\n",
              "    .dataframe tbody tr th {\n",
              "        vertical-align: top;\n",
              "    }\n",
              "\n",
              "    .dataframe thead th {\n",
              "        text-align: right;\n",
              "    }\n",
              "</style>\n",
              "<table border=\"1\" class=\"dataframe\">\n",
              "  <thead>\n",
              "    <tr style=\"text-align: right;\">\n",
              "      <th></th>\n",
              "      <th>id</th>\n",
              "      <th>equipo</th>\n",
              "      <th>sigla</th>\n",
              "    </tr>\n",
              "  </thead>\n",
              "  <tbody>\n",
              "    <tr>\n",
              "      <th>0</th>\n",
              "      <td>1</td>\n",
              "      <td>30. Februar</td>\n",
              "      <td>AUT</td>\n",
              "    </tr>\n",
              "    <tr>\n",
              "      <th>1</th>\n",
              "      <td>2</td>\n",
              "      <td>A North American Team</td>\n",
              "      <td>MEX</td>\n",
              "    </tr>\n",
              "    <tr>\n",
              "      <th>2</th>\n",
              "      <td>3</td>\n",
              "      <td>Acipactli</td>\n",
              "      <td>MEX</td>\n",
              "    </tr>\n",
              "    <tr>\n",
              "      <th>3</th>\n",
              "      <td>4</td>\n",
              "      <td>Acturus</td>\n",
              "      <td>ARG</td>\n",
              "    </tr>\n",
              "    <tr>\n",
              "      <th>4</th>\n",
              "      <td>5</td>\n",
              "      <td>Afghanistan</td>\n",
              "      <td>AFG</td>\n",
              "    </tr>\n",
              "    <tr>\n",
              "      <th>...</th>\n",
              "      <td>...</td>\n",
              "      <td>...</td>\n",
              "      <td>...</td>\n",
              "    </tr>\n",
              "    <tr>\n",
              "      <th>1179</th>\n",
              "      <td>1180</td>\n",
              "      <td>Yugoslavia-2</td>\n",
              "      <td>YUG</td>\n",
              "    </tr>\n",
              "    <tr>\n",
              "      <th>1180</th>\n",
              "      <td>1181</td>\n",
              "      <td>Zambia</td>\n",
              "      <td>ZAM</td>\n",
              "    </tr>\n",
              "    <tr>\n",
              "      <th>1181</th>\n",
              "      <td>1182</td>\n",
              "      <td>Zefyros</td>\n",
              "      <td>GRE</td>\n",
              "    </tr>\n",
              "    <tr>\n",
              "      <th>1182</th>\n",
              "      <td>1183</td>\n",
              "      <td>Zimbabwe</td>\n",
              "      <td>ZIM</td>\n",
              "    </tr>\n",
              "    <tr>\n",
              "      <th>1183</th>\n",
              "      <td>1184</td>\n",
              "      <td>Zut</td>\n",
              "      <td>BEL</td>\n",
              "    </tr>\n",
              "  </tbody>\n",
              "</table>\n",
              "<p>1184 rows × 3 columns</p>\n",
              "</div>\n",
              "      <button class=\"colab-df-convert\" onclick=\"convertToInteractive('df-df15f9da-f729-4eb8-9f24-026c2295faf4')\"\n",
              "              title=\"Convert this dataframe to an interactive table.\"\n",
              "              style=\"display:none;\">\n",
              "        \n",
              "  <svg xmlns=\"http://www.w3.org/2000/svg\" height=\"24px\"viewBox=\"0 0 24 24\"\n",
              "       width=\"24px\">\n",
              "    <path d=\"M0 0h24v24H0V0z\" fill=\"none\"/>\n",
              "    <path d=\"M18.56 5.44l.94 2.06.94-2.06 2.06-.94-2.06-.94-.94-2.06-.94 2.06-2.06.94zm-11 1L8.5 8.5l.94-2.06 2.06-.94-2.06-.94L8.5 2.5l-.94 2.06-2.06.94zm10 10l.94 2.06.94-2.06 2.06-.94-2.06-.94-.94-2.06-.94 2.06-2.06.94z\"/><path d=\"M17.41 7.96l-1.37-1.37c-.4-.4-.92-.59-1.43-.59-.52 0-1.04.2-1.43.59L10.3 9.45l-7.72 7.72c-.78.78-.78 2.05 0 2.83L4 21.41c.39.39.9.59 1.41.59.51 0 1.02-.2 1.41-.59l7.78-7.78 2.81-2.81c.8-.78.8-2.07 0-2.86zM5.41 20L4 18.59l7.72-7.72 1.47 1.35L5.41 20z\"/>\n",
              "  </svg>\n",
              "      </button>\n",
              "      \n",
              "  <style>\n",
              "    .colab-df-container {\n",
              "      display:flex;\n",
              "      flex-wrap:wrap;\n",
              "      gap: 12px;\n",
              "    }\n",
              "\n",
              "    .colab-df-convert {\n",
              "      background-color: #E8F0FE;\n",
              "      border: none;\n",
              "      border-radius: 50%;\n",
              "      cursor: pointer;\n",
              "      display: none;\n",
              "      fill: #1967D2;\n",
              "      height: 32px;\n",
              "      padding: 0 0 0 0;\n",
              "      width: 32px;\n",
              "    }\n",
              "\n",
              "    .colab-df-convert:hover {\n",
              "      background-color: #E2EBFA;\n",
              "      box-shadow: 0px 1px 2px rgba(60, 64, 67, 0.3), 0px 1px 3px 1px rgba(60, 64, 67, 0.15);\n",
              "      fill: #174EA6;\n",
              "    }\n",
              "\n",
              "    [theme=dark] .colab-df-convert {\n",
              "      background-color: #3B4455;\n",
              "      fill: #D2E3FC;\n",
              "    }\n",
              "\n",
              "    [theme=dark] .colab-df-convert:hover {\n",
              "      background-color: #434B5C;\n",
              "      box-shadow: 0px 1px 3px 1px rgba(0, 0, 0, 0.15);\n",
              "      filter: drop-shadow(0px 1px 2px rgba(0, 0, 0, 0.3));\n",
              "      fill: #FFFFFF;\n",
              "    }\n",
              "  </style>\n",
              "\n",
              "      <script>\n",
              "        const buttonEl =\n",
              "          document.querySelector('#df-df15f9da-f729-4eb8-9f24-026c2295faf4 button.colab-df-convert');\n",
              "        buttonEl.style.display =\n",
              "          google.colab.kernel.accessAllowed ? 'block' : 'none';\n",
              "\n",
              "        async function convertToInteractive(key) {\n",
              "          const element = document.querySelector('#df-df15f9da-f729-4eb8-9f24-026c2295faf4');\n",
              "          const dataTable =\n",
              "            await google.colab.kernel.invokeFunction('convertToInteractive',\n",
              "                                                     [key], {});\n",
              "          if (!dataTable) return;\n",
              "\n",
              "          const docLinkHtml = 'Like what you see? Visit the ' +\n",
              "            '<a target=\"_blank\" href=https://colab.research.google.com/notebooks/data_table.ipynb>data table notebook</a>'\n",
              "            + ' to learn more about interactive tables.';\n",
              "          element.innerHTML = '';\n",
              "          dataTable['output_type'] = 'display_data';\n",
              "          await google.colab.output.renderOutput(dataTable, element);\n",
              "          const docLink = document.createElement('div');\n",
              "          docLink.innerHTML = docLinkHtml;\n",
              "          element.appendChild(docLink);\n",
              "        }\n",
              "      </script>\n",
              "    </div>\n",
              "  </div>\n",
              "  "
            ]
          },
          "metadata": {},
          "execution_count": 37
        }
      ]
    },
    {
      "cell_type": "markdown",
      "source": [
        "# Operaciones sobre un RDDs\n",
        "\n",
        "Para la realzación del ejercicio, con ayuda del archivo paises, realizaremos el equivalente de operaciones `select`,`count`,`group by` , `filter` y `where`"
      ],
      "metadata": {
        "id": "rYVavORU3Yx7"
      }
    },
    {
      "cell_type": "markdown",
      "source": [
        "### Ejercicio 1: \n",
        "**Mostrar los países sin repetidos**\n",
        "\n",
        "*   Seleccionar la columna de las siglas PISTA: Usa un map y quedate con la columna con indice 2.\n",
        "*   Usamos el `distinct()`\n",
        "\n"
      ],
      "metadata": {
        "id": "rHZH2AR_D1t_"
      }
    },
    {
      "cell_type": "code",
      "source": [
        "#Inserta aquí tu código\n",
        "import pandas as pd\n",
        "total_paises = pd.DataFrame(equiposOlimpicosRDD.collect()[1:], columns = equiposOlimpicosRDD.collect()[0] )\n",
        "paises = total_paises.loc[:, \"sigla\"]\n",
        "print(paises)\n",
        "\n",
        "siglas = list(paises)\n",
        "#siglas = list(map(lambda x: x[], pais))\n",
        "paises_sin_repeticiones = list(set(siglas))\n",
        "for pais in paises_sin_repeticiones:\n",
        "    print(pais)"
      ],
      "metadata": {
        "id": "YCrbVMte0Nzy",
        "colab": {
          "base_uri": "https://localhost:8080/",
          "height": 235
        },
        "outputId": "06b6f4c8-06fd-417a-bab3-75c9ad542440"
      },
      "execution_count": 1,
      "outputs": [
        {
          "output_type": "error",
          "ename": "NameError",
          "evalue": "ignored",
          "traceback": [
            "\u001b[0;31m---------------------------------------------------------------------------\u001b[0m",
            "\u001b[0;31mNameError\u001b[0m                                 Traceback (most recent call last)",
            "\u001b[0;32m<ipython-input-1-f6b91877241b>\u001b[0m in \u001b[0;36m<cell line: 3>\u001b[0;34m()\u001b[0m\n\u001b[1;32m      1\u001b[0m \u001b[0;31m#Inserta aquí tu código\u001b[0m\u001b[0;34m\u001b[0m\u001b[0;34m\u001b[0m\u001b[0m\n\u001b[1;32m      2\u001b[0m \u001b[0;32mimport\u001b[0m \u001b[0mpandas\u001b[0m \u001b[0;32mas\u001b[0m \u001b[0mpd\u001b[0m\u001b[0;34m\u001b[0m\u001b[0;34m\u001b[0m\u001b[0m\n\u001b[0;32m----> 3\u001b[0;31m \u001b[0mtotal_paises\u001b[0m \u001b[0;34m=\u001b[0m \u001b[0mpd\u001b[0m\u001b[0;34m.\u001b[0m\u001b[0mDataFrame\u001b[0m\u001b[0;34m(\u001b[0m\u001b[0mequiposOlimpicosRDD\u001b[0m\u001b[0;34m.\u001b[0m\u001b[0mcollect\u001b[0m\u001b[0;34m(\u001b[0m\u001b[0;34m)\u001b[0m\u001b[0;34m[\u001b[0m\u001b[0;36m1\u001b[0m\u001b[0;34m:\u001b[0m\u001b[0;34m]\u001b[0m\u001b[0;34m,\u001b[0m \u001b[0mcolumns\u001b[0m \u001b[0;34m=\u001b[0m \u001b[0mequiposOlimpicosRDD\u001b[0m\u001b[0;34m.\u001b[0m\u001b[0mcollect\u001b[0m\u001b[0;34m(\u001b[0m\u001b[0;34m)\u001b[0m\u001b[0;34m[\u001b[0m\u001b[0;36m0\u001b[0m\u001b[0;34m]\u001b[0m \u001b[0;34m)\u001b[0m\u001b[0;34m\u001b[0m\u001b[0;34m\u001b[0m\u001b[0m\n\u001b[0m\u001b[1;32m      4\u001b[0m \u001b[0mpaises\u001b[0m \u001b[0;34m=\u001b[0m \u001b[0mtotal_paises\u001b[0m\u001b[0;34m.\u001b[0m\u001b[0mloc\u001b[0m\u001b[0;34m[\u001b[0m\u001b[0;34m:\u001b[0m\u001b[0;34m,\u001b[0m \u001b[0;34m\"sigla\"\u001b[0m\u001b[0;34m]\u001b[0m\u001b[0;34m\u001b[0m\u001b[0;34m\u001b[0m\u001b[0m\n\u001b[1;32m      5\u001b[0m \u001b[0mprint\u001b[0m\u001b[0;34m(\u001b[0m\u001b[0mpaises\u001b[0m\u001b[0;34m)\u001b[0m\u001b[0;34m\u001b[0m\u001b[0;34m\u001b[0m\u001b[0m\n",
            "\u001b[0;31mNameError\u001b[0m: name 'equiposOlimpicosRDD' is not defined"
          ]
        }
      ]
    },
    {
      "cell_type": "markdown",
      "metadata": {
        "id": "wddQm8GvzQPA"
      },
      "source": [
        "### Ejercicio 2\n",
        "**Contar la cantidad de siglas diferentes de los equipos olímpicos existentes**\n",
        "\n",
        "PISTA: Puedes usar `count()`"
      ]
    },
    {
      "cell_type": "code",
      "execution_count": null,
      "metadata": {
        "id": "r37ow1TTzQPB",
        "colab": {
          "base_uri": "https://localhost:8080/"
        },
        "outputId": "41a7b9a6-5704-42ed-fbe6-9850ebbc15c3"
      },
      "outputs": [
        {
          "output_type": "execute_result",
          "data": {
            "text/plain": [
              "231"
            ]
          },
          "metadata": {},
          "execution_count": 12
        }
      ],
      "source": [
        "#Inserta aquí tu código\n"
      ]
    },
    {
      "cell_type": "markdown",
      "metadata": {
        "id": "NdBMwHo6zQPB"
      },
      "source": [
        "### Ejercicio 3 (Díficil, puedes hacerlo el último)\n",
        "**Agrupamos datos para poder determinar cuantos equipos posee un pais**\n",
        "\n",
        "Recuerda que los RDDs poseen una estructura de `clave-valor`, por lo cual debemos poner primero el valor 'clave' (la sigla del país).\n",
        "\n",
        "Con 'mapValues', al componente 'valor' le indicamos que operación deseamos que se le aplique.\n",
        "\n",
        "**Objetivo 1**: Tener un diccionario con `clave` la sigla del país y `valor` la lista de equipos de ese país\n",
        "\n",
        "Con `groupByKey` podemos agrupar por `clave`, en este caso por sigla del país  "
      ]
    },
    {
      "cell_type": "code",
      "execution_count": null,
      "metadata": {
        "id": "vxUqbKmyzQPC"
      },
      "outputs": [],
      "source": [
        "#Inserta aquí tu código\n"
      ]
    },
    {
      "cell_type": "markdown",
      "source": [
        "**Objetivo 2**: Tener un diccionario con `clave` la sigla del país y `valor` la cantidad de equipos de ese país"
      ],
      "metadata": {
        "id": "onaaHz_m7zsz"
      }
    },
    {
      "cell_type": "code",
      "execution_count": null,
      "metadata": {
        "id": "_4Ww2IdIzQPC"
      },
      "outputs": [],
      "source": [
        "#Inserta aquí tu código\n"
      ]
    },
    {
      "cell_type": "markdown",
      "metadata": {
        "id": "yjdW-6BZzQPC"
      },
      "source": [
        "### Operación filter para obtener un subconjunto\n",
        "\n",
        "Con el método 'filter', reducimos el conjuntos de equipos.\n",
        "\n",
        "Nos quedamos con la sigla equivalente de argentina"
      ]
    },
    {
      "cell_type": "code",
      "execution_count": null,
      "metadata": {
        "id": "KEQtaJwazQPC",
        "colab": {
          "base_uri": "https://localhost:8080/"
        },
        "outputId": "0f3950bd-da58-4be7-fa79-b02bedf0167b"
      },
      "outputs": [
        {
          "output_type": "execute_result",
          "data": {
            "text/plain": [
              "[['4', 'Acturus', 'ARG'],\n",
              " ['37', 'Antares', 'ARG'],\n",
              " ['42', 'Arcturus', 'ARG'],\n",
              " ['43', 'Ardilla', 'ARG'],\n",
              " ['45', 'Argentina', 'ARG'],\n",
              " ['46', 'Argentina-1', 'ARG'],\n",
              " ['47', 'Argentina-2', 'ARG'],\n",
              " ['119', 'Blue Red', 'ARG'],\n",
              " ['238', 'Covunco III', 'ARG'],\n",
              " ['252', 'Cupidon III', 'ARG'],\n",
              " ['288', 'Djinn', 'ARG'],\n",
              " ['436', 'Gullvinge', 'ARG'],\n",
              " ['644', 'Matrero II', 'ARG'],\n",
              " ['672', 'Mizar', 'ARG'],\n",
              " ['774', 'Pampero', 'ARG'],\n",
              " ['843', 'Rampage', 'ARG'],\n",
              " ['1031', 'Tango', 'ARG'],\n",
              " ['1162', 'Wiking', 'ARG']]"
            ]
          },
          "metadata": {},
          "execution_count": 5
        }
      ],
      "source": [
        "equiposArgentinos = equiposOlimpicosRDD.filter(lambda l : \"ARG\" in l)\n",
        "equiposArgentinos.collect()  "
      ]
    },
    {
      "cell_type": "markdown",
      "metadata": {
        "id": "yTKWJ6uuzQPD"
      },
      "source": [
        "# Accciones sobre RDDs"
      ]
    },
    {
      "cell_type": "code",
      "execution_count": null,
      "metadata": {
        "id": "9oMfLYCFzQPD"
      },
      "outputs": [],
      "source": [
        "deportistaOlimpicoRDD = sc.textFile(\"/content/drive/MyDrive/Colab Notebooks/RED.ES/Datos Ejercicios/M6/deportista.csv\").map(lambda line : line.split(\",\"))\n",
        "deportistaOlimpico2RDD = sc.textFile(\"/content/drive/MyDrive/Colab Notebooks/RED.ES/Datos Ejercicios/M6/deportista2.csv\").map(lambda line : line.split(\",\"))"
      ]
    },
    {
      "cell_type": "code",
      "execution_count": null,
      "metadata": {
        "id": "6b4nfMdPzQPD"
      },
      "outputs": [],
      "source": [
        "deportistaOlimpicoRDD = deportistaOlimpicoRDD.union(deportistaOlimpico2RDD)"
      ]
    },
    {
      "cell_type": "markdown",
      "metadata": {
        "id": "wusBWOhIzQPD"
      },
      "source": [
        "### Formas de visualizar datos de un RDDs\n",
        "\n",
        "La operación 'take' nos devuelve 'N' valores que encuentre spark.\n",
        "\n",
        "La operación 'top', previo ordena respecto al valor llave y nos devuelve 'N' valores.\n",
        "\n",
        "La operacion 'takeSample', nos devuelve una muestra aleatoria de los valores, Observa que recibe tres parametros\n",
        "\n",
        "| Orden | Argumento | Descripción | Valor\n",
        "|-------|--------|-----|--------|\n",
        "|1|withReplacement|Indica si la muetra podrá traer replicados|Bool|\n",
        "|2| num| Cantidad de valores a retornar|int|\n",
        "|3|seed|semilla para el generador aleatorio|int|"
      ]
    },
    {
      "cell_type": "markdown",
      "metadata": {
        "id": "HIL2jSanzQPD"
      },
      "source": [
        "Nota: Si encuentras complicado leer el código en los segmentos donde usamos indices en las listas, ejecutalo por partes para que visualizes que componentes seleccionamos \n",
        "\n",
        "Nota: Para hacer join con RDDs, debemos tener selecionada la llave al inicio del RDD para poder realizar el cruce."
      ]
    },
    {
      "cell_type": "code",
      "source": [
        "deportistaOlimpicoRDD.take(3)"
      ],
      "metadata": {
        "colab": {
          "base_uri": "https://localhost:8080/"
        },
        "id": "V3-IYatwkRqf",
        "outputId": "cb6f6641-2c78-4724-b4e0-ae57de92d5f5"
      },
      "execution_count": null,
      "outputs": [
        {
          "output_type": "execute_result",
          "data": {
            "text/plain": [
              "[['deportista_id', 'nombre', 'genero', 'edad', 'altura', 'peso', 'equipo_id'],\n",
              " ['1', 'A Dijiang', '1', '24', '180', '80', '199'],\n",
              " ['2', 'A Lamusi', '1', '23', '170', '60', '199']]"
            ]
          },
          "metadata": {},
          "execution_count": 8
        }
      ]
    },
    {
      "cell_type": "code",
      "source": [
        "deportistaOlimpicoRDD.map(lambda x :[x[-1], x[:-1]]).take(3)"
      ],
      "metadata": {
        "colab": {
          "base_uri": "https://localhost:8080/"
        },
        "id": "7lPtnbCZkcRg",
        "outputId": "35e99400-45d2-4384-e8fd-aa547b8ac23a"
      },
      "execution_count": null,
      "outputs": [
        {
          "output_type": "execute_result",
          "data": {
            "text/plain": [
              "[['equipo_id',\n",
              "  ['deportista_id', 'nombre', 'genero', 'edad', 'altura', 'peso']],\n",
              " ['199', ['1', 'A Dijiang', '1', '24', '180', '80']],\n",
              " ['199', ['2', 'A Lamusi', '1', '23', '170', '60']]]"
            ]
          },
          "metadata": {},
          "execution_count": 9
        }
      ]
    },
    {
      "cell_type": "code",
      "source": [
        "equiposOlimpicosRDD.map(lambda x : [x[0],x[2]]).take(3)"
      ],
      "metadata": {
        "colab": {
          "base_uri": "https://localhost:8080/"
        },
        "id": "TgidK7uekktd",
        "outputId": "48537788-0fb6-4273-90b1-f6cdd5c44ed4"
      },
      "execution_count": null,
      "outputs": [
        {
          "output_type": "execute_result",
          "data": {
            "text/plain": [
              "[['id', 'sigla'], ['1', 'AUT'], ['2', 'MEX']]"
            ]
          },
          "metadata": {},
          "execution_count": 10
        }
      ]
    },
    {
      "cell_type": "code",
      "execution_count": null,
      "metadata": {
        "id": "dujFUIR-zQPE",
        "colab": {
          "base_uri": "https://localhost:8080/"
        },
        "outputId": "a116ae6e-9a5c-473d-f7f6-3cf10d4099cb"
      },
      "outputs": [
        {
          "output_type": "execute_result",
          "data": {
            "text/plain": [
              "[('199', (['1', 'A Dijiang', '1', '24', '180', '80'], 'CHN')),\n",
              " ('199', (['2', 'A Lamusi', '1', '23', '170', '60'], 'CHN')),\n",
              " ('199', (['602', 'Abudoureheman', '1', '22', '182', '75'], 'CHN')),\n",
              " ('199', (['1463', 'Ai Linuer', '1', '25', '160', '62'], 'CHN')),\n",
              " ('199', (['1464', 'Ai Yanhan', '2', '14', '168', '54'], 'CHN')),\n",
              " ('199', (['3605', 'An Weijiang', '1', '22', '178', '72'], 'CHN'))]"
            ]
          },
          "metadata": {},
          "execution_count": 11
        }
      ],
      "source": [
        "deportistaOlimpicoRDD.map(lambda x :[x[-1], x[:-1]]).join(equiposOlimpicosRDD \\\n",
        "                        .map(lambda x : [x[0],x[2]])).take(6)"
      ]
    },
    {
      "cell_type": "code",
      "execution_count": null,
      "metadata": {
        "id": "egEvLY1kzQPE"
      },
      "outputs": [],
      "source": [
        "deportistaOlimpicoRDD.map(lambda x :[x[-1], x[:-1]]).join(equiposOlimpicosRDD \\\n",
        "                        .map(lambda x : [x[0],x[2]])).top(5)"
      ]
    },
    {
      "cell_type": "code",
      "execution_count": null,
      "metadata": {
        "id": "oKfW9T8QzQPE"
      },
      "outputs": [],
      "source": [
        "deportistaOlimpicoRDD.map(lambda x :[x[-1], x[:-1]]).join(equiposOlimpicosRDD \\\n",
        "                        .map(lambda x : [x[0],x[2]])).takeSample(False,4,10)"
      ]
    },
    {
      "cell_type": "markdown",
      "metadata": {
        "id": "s1p9GbMXRKUh"
      },
      "source": [
        "### Ejercicio 4\n",
        "**Muestra 17 filas del RDD deportistaOlimpicoRDD**\n"
      ]
    },
    {
      "cell_type": "code",
      "execution_count": null,
      "metadata": {
        "id": "YGBkAiRSRKUi"
      },
      "outputs": [],
      "source": [
        "#Inserta aquí tu código\n"
      ]
    },
    {
      "cell_type": "markdown",
      "metadata": {
        "id": "wKd3eGMmzQPE"
      },
      "source": [
        "## Importancia de countAprox"
      ]
    },
    {
      "cell_type": "markdown",
      "metadata": {
        "id": "olmQehcQzQPF"
      },
      "source": [
        "Debido a la cantidad de datos no siempre es recomendable hacer operaciones tipo count.\n",
        "\n",
        "Por lo que 'countAprox' es la solución mas viable cuando solo queremos darnos una idea de cuantos datos podemos leer durante un tiempo determinado. Nota: el parametro está en milisegundos"
      ]
    },
    {
      "cell_type": "code",
      "execution_count": null,
      "metadata": {
        "id": "ghA17-KfzQPF"
      },
      "outputs": [],
      "source": [
        "deportistaOlimpicoRDD.map(lambda x :[x[-1], x[:-1]]).join(equiposOlimpicosRDD \\\n",
        "                            .map(lambda x : [x[0],x[2]])).count()"
      ]
    },
    {
      "cell_type": "code",
      "execution_count": null,
      "metadata": {
        "id": "ntbJX0mmzQPF"
      },
      "outputs": [],
      "source": [
        "deportistaOlimpicoRDD.map(lambda x :[x[-1], x[:-1]]).join(equiposOlimpicosRDD \\\n",
        "                        .map(lambda x : [x[0],x[2]])).countApprox(20)"
      ]
    },
    {
      "cell_type": "markdown",
      "metadata": {
        "id": "qxyaA7XrzQPF"
      },
      "source": [
        "# Acciones de modificacion"
      ]
    },
    {
      "cell_type": "markdown",
      "metadata": {
        "id": "QzWHfn79zQPF"
      },
      "source": [
        "### Obtenemos el equipo y el deportista\n",
        "\n",
        "Guardamos el RDD resultante en equipoDeportista"
      ]
    },
    {
      "cell_type": "code",
      "execution_count": null,
      "metadata": {
        "id": "cuv7lqaSzQPF"
      },
      "outputs": [],
      "source": [
        "equipoDeportista = deportistaOlimpicoRDD.map(lambda x :[x[-1], x[:-1]]).join(equiposOlimpicosRDD \\\n",
        "                                            .map(lambda x : [x[0],x[2]]))"
      ]
    },
    {
      "cell_type": "code",
      "execution_count": null,
      "metadata": {
        "id": "0ASUP1A_zQPG"
      },
      "outputs": [],
      "source": [
        "equipoDeportista.take(1)\n"
      ]
    },
    {
      "cell_type": "code",
      "execution_count": null,
      "metadata": {
        "id": "YNBmieYBzQPG"
      },
      "outputs": [],
      "source": [
        "equipoDeportista.map(lambda x : (x[1][0][0],x[1][0][1:],x[1][1]) )"
      ]
    },
    {
      "cell_type": "markdown",
      "metadata": {
        "id": "2zxGrdbGzQPG"
      },
      "source": [
        "### Carga de resultados\n",
        "\n",
        "Esta tabla posee las medallas que los jugadores han ganado"
      ]
    },
    {
      "cell_type": "code",
      "execution_count": null,
      "metadata": {
        "id": "JJIp94vWzQPG"
      },
      "outputs": [],
      "source": [
        "resultado = sc.textFile(\"/content/drive/MyDrive/Colab Notebooks/RED.ES/Datos Ejercicios/M6/resultados.csv\").map(lambda line : line.split(\",\"))"
      ]
    },
    {
      "cell_type": "markdown",
      "metadata": {
        "id": "7AagekzDzQPG"
      },
      "source": [
        "Eliminamos todas las medallas no ganadoras y nos quedamos con el valor de la medalla y  del deportista_id"
      ]
    },
    {
      "cell_type": "code",
      "execution_count": null,
      "metadata": {
        "id": "c-lpm6EVzQPH"
      },
      "outputs": [],
      "source": [
        "resultadoGanador = resultado.filter(lambda l : 'NA' not in l[1])\n",
        "resultadoGanador = resultadoGanador.map(lambda l : [l[2],l[1]])"
      ]
    },
    {
      "cell_type": "code",
      "execution_count": null,
      "metadata": {
        "id": "Gbe00aAczQPH"
      },
      "outputs": [],
      "source": [
        "resultadoGanador.take(15)"
      ]
    },
    {
      "cell_type": "markdown",
      "metadata": {
        "id": "_qSc4-5FzQPH"
      },
      "source": [
        "### Obtenemos la relación buscada: deportista,pais y medalla."
      ]
    },
    {
      "cell_type": "code",
      "execution_count": null,
      "metadata": {
        "id": "CG3xGTK6zQPH",
        "colab": {
          "base_uri": "https://localhost:8080/"
        },
        "outputId": "1fc1079e-5a0c-4b8a-847a-02543c87362f"
      },
      "outputs": [
        {
          "output_type": "execute_result",
          "data": {
            "text/plain": [
              "[('514', ((['362', 'Isao Ko Abe', '1', '24', '177', '75'], 'JPN'), 'Silver'))]"
            ]
          },
          "metadata": {},
          "execution_count": 53
        }
      ],
      "source": [
        "jugadoresMedalla =  equipoDeportista.join(resultadoGanador)\n",
        "jugadoresMedalla.take(1)"
      ]
    },
    {
      "cell_type": "markdown",
      "metadata": {
        "id": "a8WuSmepzQPI"
      },
      "source": [
        "### Agrupamos las medallas respecto a la sigla del pais jugador"
      ]
    },
    {
      "cell_type": "code",
      "execution_count": null,
      "metadata": {
        "id": "lcUTb15DzQPJ"
      },
      "outputs": [],
      "source": [
        "d = {'Gold':7, 'Silver':5, 'Bronze':4}\n",
        "paisesMedallas = jugadoresMedalla.map(lambda x : (x[1][0][-1],d[x[1][1]]) )\n",
        "paisesMedallas.takeSample(False,10)"
      ]
    },
    {
      "cell_type": "markdown",
      "metadata": {
        "id": "skE05DhPzQPK"
      },
      "source": [
        "### Obtenemos los valores de los puntuajes históricos de los paises jugadores"
      ]
    },
    {
      "cell_type": "code",
      "execution_count": null,
      "metadata": {
        "id": "79MuLEmqzQPK",
        "colab": {
          "base_uri": "https://localhost:8080/"
        },
        "outputId": "c3b03e7b-feff-47cd-e236-9f580e4e6ba3"
      },
      "outputs": [
        {
          "output_type": "execute_result",
          "data": {
            "text/plain": [
              "[('ITA', 38559),\n",
              " ('NED', 29508),\n",
              " ('GER', 11130),\n",
              " ('JPN', 7880),\n",
              " ('NZL', 4646),\n",
              " ('TCH', 3880),\n",
              " ('TUR', 2315),\n",
              " ('RSA', 2175),\n",
              " ('BLR', 2156),\n",
              " ('ALG', 2024)]"
            ]
          },
          "metadata": {},
          "execution_count": 58
        }
      ],
      "source": [
        "from operator import add\n",
        "conclusion = paisesMedallas.reduceByKey((add)).sortBy(lambda x : x[1],ascending=False)\n",
        "conclusion.take(10)"
      ]
    },
    {
      "cell_type": "markdown",
      "metadata": {
        "id": "na7avzcTzQPL"
      },
      "source": [
        "# Estadística básica sobre los RDDs"
      ]
    },
    {
      "cell_type": "markdown",
      "metadata": {
        "id": "txvDoGPhzQPL"
      },
      "source": [
        "Spark posee una suite integrada de forma natural para poder obtener estadísticas básicas."
      ]
    },
    {
      "cell_type": "code",
      "execution_count": null,
      "metadata": {
        "id": "TbTldbYHzQPL"
      },
      "outputs": [],
      "source": [
        "conclusion.map(lambda l : l[1]).stats()"
      ]
    },
    {
      "cell_type": "code",
      "execution_count": null,
      "metadata": {
        "id": "jgmQCwq_zQPL"
      },
      "outputs": [],
      "source": [
        "conclusion.map(lambda l : l [1]).mean()"
      ]
    },
    {
      "cell_type": "code",
      "execution_count": null,
      "metadata": {
        "id": "8kobm9iHzQPL"
      },
      "outputs": [],
      "source": [
        "conclusion.map(lambda l : l [1]).sum()"
      ]
    },
    {
      "cell_type": "code",
      "execution_count": null,
      "metadata": {
        "id": "6FOuFvAszQPM"
      },
      "outputs": [],
      "source": [
        "conclusion.map(lambda l : l [1]).histogram(10)"
      ]
    },
    {
      "cell_type": "markdown",
      "source": [
        "## Ejercicios Programación funcional"
      ],
      "metadata": {
        "id": "wymqkE9zu61R"
      }
    },
    {
      "cell_type": "markdown",
      "metadata": {
        "id": "BLMGps-pu2TZ"
      },
      "source": [
        "### Ejercicio 5\n",
        "**Escribir una función que aplique el IVA a un precio.**\n",
        "* Nombre de la función: apply_iva\n",
        "* Argumentos: precio, iva\n",
        "* Resultado: precio con iva aplicado\n",
        "\n",
        "\n",
        "* Prueba a llamar a la función\n"
      ]
    },
    {
      "cell_type": "code",
      "execution_count": null,
      "metadata": {
        "id": "mu6lIB0Fu2Ti"
      },
      "outputs": [],
      "source": [
        "#Inserta aquí tu código\n"
      ]
    },
    {
      "cell_type": "markdown",
      "metadata": {
        "id": "cf_bBDqUvvrH"
      },
      "source": [
        "### Ejercicio 6\n",
        "** Escribe una función que aplica la función cuadrado() a todos los elementos de una lista.**\n",
        "\n",
        "    Parámetros:\n",
        "        funcion: Recibe la función a aplicar.\n",
        "        lista: Es una lista con valores que se pasarán como argumentos a funcion.\n",
        "    Devuelve:\n",
        "        Una lista con el resultado de aplicar la función a los valores de la lista."
      ]
    },
    {
      "cell_type": "code",
      "execution_count": null,
      "metadata": {
        "id": "4OLzIg3cvvrI"
      },
      "outputs": [],
      "source": [
        "#Inserta aquí tu código\n"
      ]
    },
    {
      "cell_type": "code",
      "source": [
        "def cuadrado(n):\n",
        "    return n * n\n",
        "\n",
        "print(aplica_funcion_lista(cuadrado, [1, 2, 3, 4]))"
      ],
      "metadata": {
        "id": "H7vUWifkwQkf"
      },
      "execution_count": null,
      "outputs": []
    },
    {
      "cell_type": "markdown",
      "metadata": {
        "id": "_1FP4aGdx4To"
      },
      "source": [
        "### Ejercicio 7\n",
        "**Detectar y corregir los errores del siguiente programa que aplica el iva a una factura:**\n"
      ]
    },
    {
      "cell_type": "code",
      "execution_count": null,
      "metadata": {
        "id": "V2TWrbVUx4Tp"
      },
      "outputs": [],
      "source": [
        "base = input('Introduce la base imponible de la factura: ')\n",
        "print(aplica_iva(base, iva))\n",
        "\n",
        "def aplica_iva(base, iva = 21):\n",
        "    base = base * iva   \n",
        "    return base "
      ]
    }
  ],
  "metadata": {
    "kernelspec": {
      "display_name": "Python 3",
      "language": "python",
      "name": "python3"
    },
    "language_info": {
      "codemirror_mode": {
        "name": "ipython",
        "version": 3
      },
      "file_extension": ".py",
      "mimetype": "text/x-python",
      "name": "python",
      "nbconvert_exporter": "python",
      "pygments_lexer": "ipython3",
      "version": "3.8.5"
    },
    "colab": {
      "provenance": []
    }
  },
  "nbformat": 4,
  "nbformat_minor": 0
}