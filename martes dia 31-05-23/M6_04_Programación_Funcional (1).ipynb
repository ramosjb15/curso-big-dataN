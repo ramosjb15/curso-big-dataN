{
  "nbformat": 4,
  "nbformat_minor": 0,
  "metadata": {
    "colab": {
      "provenance": []
    },
    "kernelspec": {
      "name": "python3",
      "display_name": "Python 3"
    }
  },
  "cells": [
    {
      "cell_type": "markdown",
      "metadata": {
        "id": "nsEOLErx6WCf"
      },
      "source": [
        "# **Programacion funcional**\n",
        "\n",
        "Vamos a aprender a usar las **funciones lambda, map, filter y reduce**.\n",
        "\n",
        "Veremos los siguientes métodos:\n",
        "\n",
        "    1) Funciones lambda.\n",
        "    2) Metodos de la programacion funcional:      \n",
        "      - map\n",
        "      - filter\n",
        "      - reduce*\n",
        "\n",
        "### **Programacion funcional**\n",
        "\n",
        "Los programas escritos en un **lenguaje funcional** están constituidos unicamente por definiciones de **funciones**, entendiendo estas no como subprogramas clasicos de un lenguaje imperativo, sino como funciones puramente matematicas.\n",
        "\n",
        "<center>\n",
        "<img src=\"https://user-images.githubusercontent.com/16768318/73006022-d523bd00-3e01-11ea-8c1a-8ce4f5529158.png\" width=\"35%\">\n",
        "</center>\n",
        "\n",
        "### **Funciones lambda**\n",
        "\n",
        "Sirve para crear funciones anonimas. Ejemplo:\n"
      ]
    },
    {
      "cell_type": "code",
      "metadata": {
        "id": "TOTBARnt6Lhi"
      },
      "source": [
        "def doble(x):\n",
        "  return x**2"
      ],
      "execution_count": 2,
      "outputs": []
    },
    {
      "cell_type": "code",
      "metadata": {
        "id": "gqz5TzS8_weU",
        "colab": {
          "base_uri": "https://localhost:8080/"
        },
        "outputId": "9886a4c7-6ba2-4641-d6d8-a63447d6198f"
      },
      "source": [
        "doble(25)"
      ],
      "execution_count": 3,
      "outputs": [
        {
          "output_type": "execute_result",
          "data": {
            "text/plain": [
              "625"
            ]
          },
          "metadata": {},
          "execution_count": 3
        }
      ]
    },
    {
      "cell_type": "code",
      "metadata": {
        "id": "QcVfQr-e_zBO"
      },
      "source": [
        "dobleAnonima = lambda x: x**2"
      ],
      "execution_count": 4,
      "outputs": []
    },
    {
      "cell_type": "code",
      "metadata": {
        "id": "RcsrFRGG_7eN",
        "outputId": "70192dcf-7984-4f32-ba86-b1d06ed311cb",
        "colab": {
          "base_uri": "https://localhost:8080/"
        }
      },
      "source": [
        "dobleAnonima(25)"
      ],
      "execution_count": 5,
      "outputs": [
        {
          "output_type": "execute_result",
          "data": {
            "text/plain": [
              "625"
            ]
          },
          "metadata": {},
          "execution_count": 5
        }
      ]
    },
    {
      "cell_type": "code",
      "source": [
        "(lambda x: x**2)(25)"
      ],
      "metadata": {
        "id": "Bvto8RY4sYme",
        "colab": {
          "base_uri": "https://localhost:8080/"
        },
        "outputId": "3bc99ee4-d0a5-4877-bcdc-0374a0d4a988"
      },
      "execution_count": 6,
      "outputs": [
        {
          "output_type": "execute_result",
          "data": {
            "text/plain": [
              "625"
            ]
          },
          "metadata": {},
          "execution_count": 6
        }
      ]
    },
    {
      "cell_type": "markdown",
      "source": [
        "### Ejercicio: \n",
        "Escribe una función anónima que de la vuelta a un String, guardala en una variable que se llame reverse_f.\n",
        "\n",
        "\n",
        "> Por ejemplo: Dado el string \"Hola\" debe devolver \"aloH\"\n",
        "\n"
      ],
      "metadata": {
        "id": "LNMouIAOsy9q"
      }
    },
    {
      "cell_type": "code",
      "metadata": {
        "id": "kHuKKQ7e_-rT",
        "colab": {
          "base_uri": "https://localhost:8080/"
        },
        "outputId": "85f5b07d-9069-40f8-e7b7-b212ca71f09a"
      },
      "source": [
        "#Inserta Aquí tu código\n",
        "reverse = lambda string: string[::-1]\n",
        "cadena = \"Hola\"\n",
        "cadena_invertida = reverse(cadena)\n",
        "print(cadena_invertida)"
      ],
      "execution_count": 9,
      "outputs": [
        {
          "output_type": "stream",
          "name": "stdout",
          "text": [
            "aloH\n"
          ]
        }
      ]
    },
    {
      "cell_type": "code",
      "metadata": {
        "id": "Xpb-b3xQLCOt",
        "outputId": "267996d4-ea75-47ae-d9fa-612a8f21feea",
        "colab": {
          "base_uri": "https://localhost:8080/",
          "height": 35
        }
      },
      "source": [
        "reverse_f('hola')"
      ],
      "execution_count": 10,
      "outputs": [
        {
          "output_type": "execute_result",
          "data": {
            "text/plain": [
              "'aloh'"
            ],
            "application/vnd.google.colaboratory.intrinsic+json": {
              "type": "string"
            }
          },
          "metadata": {},
          "execution_count": 10
        }
      ]
    },
    {
      "cell_type": "markdown",
      "metadata": {
        "id": "mZcdf3C-LGpm"
      },
      "source": [
        "### **Map**\n",
        "\n",
        "Aplica una condicion (definida por una funcion) sobretodos los elementos de una estructura de datos.\n",
        "<img src=\"https://leblancfg.com/img/map_function.png\" width=\"50%\">\n",
        "\n"
      ]
    },
    {
      "cell_type": "markdown",
      "metadata": {
        "id": "1bl4nKrkORx-"
      },
      "source": [
        "#### **Ejemplo 1**\n",
        "\n",
        "Convertir los valores de temperatura media de Celsius a Kelvin"
      ]
    },
    {
      "cell_type": "code",
      "metadata": {
        "id": "MJz1s2l_OC00"
      },
      "source": [
        "temp_C = [28, 32, 15, 26, 24, 30]"
      ],
      "execution_count": 11,
      "outputs": []
    },
    {
      "cell_type": "code",
      "metadata": {
        "id": "CcJQUBdORJZF",
        "outputId": "b38e81fb-23d0-4e2f-b6f3-a194c6aba92a",
        "colab": {
          "base_uri": "https://localhost:8080/"
        }
      },
      "source": [
        "# Programación imperativa\n",
        "temp_K = []\n",
        "for temp in temp_C:\n",
        "  new_temp = temp + 273.15\n",
        "  temp_K.append(new_temp) \n",
        "print(temp_K)   "
      ],
      "execution_count": 12,
      "outputs": [
        {
          "output_type": "stream",
          "name": "stdout",
          "text": [
            "[301.15, 305.15, 288.15, 299.15, 297.15, 303.15]\n"
          ]
        }
      ]
    },
    {
      "cell_type": "code",
      "source": [
        "# Programación funcional\n",
        "def celsiusAKelvin(temperatura):\n",
        "  return temperatura + 273.15\n",
        "\n",
        "temp_K = list(map(celsiusAKelvin, temp_C))\n",
        "print(temp_K)"
      ],
      "metadata": {
        "id": "Sia0b4lmvqQG",
        "colab": {
          "base_uri": "https://localhost:8080/"
        },
        "outputId": "51ed7d56-8621-4abc-f558-cfa4f4f0762c"
      },
      "execution_count": 13,
      "outputs": [
        {
          "output_type": "stream",
          "name": "stdout",
          "text": [
            "[301.15, 305.15, 288.15, 299.15, 297.15, 303.15]\n"
          ]
        }
      ]
    },
    {
      "cell_type": "code",
      "source": [
        "# Programación funcional avanzada usando funciones anónimas\n",
        "temp_K = list(map(lambda x : x+273.15, temp_C))\n",
        "print(temp_K)"
      ],
      "metadata": {
        "id": "DEvfO1AVvzvJ",
        "colab": {
          "base_uri": "https://localhost:8080/"
        },
        "outputId": "3827c498-6aac-4597-d6fe-9e414c1f2b1b"
      },
      "execution_count": 14,
      "outputs": [
        {
          "output_type": "stream",
          "name": "stdout",
          "text": [
            "[301.15, 305.15, 288.15, 299.15, 297.15, 303.15]\n"
          ]
        }
      ]
    },
    {
      "cell_type": "markdown",
      "metadata": {
        "id": "xRrjjwTrO4vc"
      },
      "source": [
        "#### **Ejercicio 2**\n",
        "Convertir estos nombres a mayúsculas"
      ]
    },
    {
      "cell_type": "code",
      "metadata": {
        "id": "cgIL58gOQo2M"
      },
      "source": [
        "mascotas_nombre_min = ['alfred', 'tabitha', 'william', 'arla']"
      ],
      "execution_count": 16,
      "outputs": []
    },
    {
      "cell_type": "markdown",
      "source": [
        "Primero resuelve tu problema usando un bucle `for`\n",
        "\n",
        "\n",
        "*   INPUT/ENTRADA: Tienes que convertir en mayúscula todos los elementos de la lista `mascotas_nombre_min`\n",
        "*   OUTPUT/SALIDA: Los nombres en mayúsculas deberán estar en la lista `mascotas_nombre_may`\n",
        "* PISTA: Puedes añadir elemenetos a una lista con `append()` \n",
        "\n"
      ],
      "metadata": {
        "id": "PNhA9FrTuR26"
      }
    },
    {
      "cell_type": "code",
      "metadata": {
        "id": "mAVbl7f2N_Si",
        "outputId": "318f320c-4a33-4d00-bf4e-3625055a7aa9",
        "colab": {
          "base_uri": "https://localhost:8080/"
        }
      },
      "source": [
        "# Programación imperativa\n",
        "#Inserta Aquí tu código\n",
        "mascotas_nombre_may = []\n",
        "mascotas_nombre_may = [nombre.upper() for nombre in mascotas_nombre_min]\n",
        "print(mascotas_nombre_may)\n"
      ],
      "execution_count": 18,
      "outputs": [
        {
          "output_type": "stream",
          "name": "stdout",
          "text": [
            "['ALFRED', 'TABITHA', 'WILLIAM', 'ARLA']\n"
          ]
        }
      ]
    },
    {
      "cell_type": "markdown",
      "source": [
        "Ahora haz lo mismo pero sin un bucle for, ahora usando map()"
      ],
      "metadata": {
        "id": "dLiYY70roeA4"
      }
    },
    {
      "cell_type": "code",
      "metadata": {
        "id": "DYdUckemOWuW",
        "outputId": "82a3f0f8-bc43-4f90-8bd3-4ae23874945a",
        "colab": {
          "base_uri": "https://localhost:8080/"
        }
      },
      "source": [
        "# Programación funcional\n",
        "#Inserta Aquí tu código\n",
        "mascotas_nombre_may = list(map(str.upper, mascotas_nombre_min))\n",
        "print(mascotas_nombre_may)\n"
      ],
      "execution_count": 19,
      "outputs": [
        {
          "output_type": "stream",
          "name": "stdout",
          "text": [
            "['ALFRED', 'TABITHA', 'WILLIAM', 'ARLA']\n"
          ]
        }
      ]
    },
    {
      "cell_type": "markdown",
      "metadata": {
        "id": "bn9eybKUUd1l"
      },
      "source": [
        "### **Filter**\n",
        "\n",
        "Mientras que **map()** pasa cada elemento del iterable a traves de una funcion y devuelve el resultado de todos los elementos que han pasado a traves de la funcion, **filter()**, en primer lugar, requiere que **la funcion devuelva valores booleanos (verdadero o falso)** y luego pasa cada elemento del iterable a traves de la funcion, **\"filtrando\" los que son falsos**. \n",
        "\n",
        "<img src=\"https://leblancfg.com/img/filter.png\" width=\"50%\">"
      ]
    },
    {
      "cell_type": "code",
      "metadata": {
        "id": "dDCGYR6yVnYK"
      },
      "source": [
        "# Filter\n",
        "numeros = [28, 32, 15, 26, 24, 30]"
      ],
      "execution_count": 20,
      "outputs": []
    },
    {
      "cell_type": "code",
      "source": [
        "# Programación imperativa\n",
        "num_may_30 = []\n",
        "for num in numeros:\n",
        "  if num >= 30:\n",
        "    num_may_30.append(num) \n",
        "    \n",
        "print(num_may_30)   "
      ],
      "metadata": {
        "id": "leajA5w3wfyK",
        "colab": {
          "base_uri": "https://localhost:8080/"
        },
        "outputId": "a30e25fd-82aa-470b-9e8a-d770c2a500ba"
      },
      "execution_count": 21,
      "outputs": [
        {
          "output_type": "stream",
          "name": "stdout",
          "text": [
            "[32, 30]\n"
          ]
        }
      ]
    },
    {
      "cell_type": "code",
      "source": [
        "# Programación funcional\n",
        "def numMayoresA30(numero):\n",
        "  if numero >= 30:\n",
        "    return True\n",
        "  else:\n",
        "    return False\n",
        "\n",
        "\n",
        "num_may_30 = list(filter(numMayoresA30, numeros))\n",
        "print(num_may_30)"
      ],
      "metadata": {
        "id": "qyBefSJDwtKc",
        "colab": {
          "base_uri": "https://localhost:8080/"
        },
        "outputId": "0420c429-31cd-442a-9e94-83fe50a1f6fe"
      },
      "execution_count": 22,
      "outputs": [
        {
          "output_type": "stream",
          "name": "stdout",
          "text": [
            "[32, 30]\n"
          ]
        }
      ]
    },
    {
      "cell_type": "code",
      "metadata": {
        "id": "78a6jsnOZ13Y",
        "outputId": "54550d13-0a06-46a7-dddb-7c8b630bf191",
        "colab": {
          "base_uri": "https://localhost:8080/"
        }
      },
      "source": [
        "# Programación funcional avanzada usando funciones anónimas\n",
        "num_may_30 = list(filter(lambda temp:temp >= 30, numeros))\n",
        "print(num_may_30)"
      ],
      "execution_count": 23,
      "outputs": [
        {
          "output_type": "stream",
          "name": "stdout",
          "text": [
            "[32, 30]\n"
          ]
        }
      ]
    },
    {
      "cell_type": "markdown",
      "metadata": {
        "id": "NcyxonXwoqF8"
      },
      "source": [
        "#### **Ejercicio 3**\n",
        "Escribir una función que reciba una frase (string) y devuelva una lista con las longitudes de cada palabra."
      ]
    },
    {
      "cell_type": "code",
      "metadata": {
        "id": "cwtf7KhNoqF9"
      },
      "source": [
        "frase = 'Welcome to Python'"
      ],
      "execution_count": 24,
      "outputs": []
    },
    {
      "cell_type": "code",
      "source": [
        "#Inserta Aquí tu código\n",
        "frase = 'Welcome to Python'\n",
        "longitudes = list(map(lambda palabra: len(palabra), frase.split()))\n",
        "\n",
        "print(longitudes)"
      ],
      "metadata": {
        "id": "UXy_CRHGpJbo",
        "colab": {
          "base_uri": "https://localhost:8080/"
        },
        "outputId": "10e20e24-b6f8-43bf-9b08-027a64ba81db"
      },
      "execution_count": 25,
      "outputs": [
        {
          "output_type": "stream",
          "name": "stdout",
          "text": [
            "[7, 2, 6]\n"
          ]
        }
      ]
    },
    {
      "cell_type": "markdown",
      "source": [
        "Comprueba tu respuesta, debe dar: [7, 2, 6]"
      ],
      "metadata": {
        "id": "jrUHW6BRo9_6"
      }
    },
    {
      "cell_type": "markdown",
      "metadata": {
        "id": "Xmq57J_2p7oD"
      },
      "source": [
        "#### **Ejercicio 4**\n",
        "Escribir una función que reciba una lista de números pares e impares y devuelve como resultado una lista solo con los números pares usando filter. Usa también la función dada check_even()."
      ]
    },
    {
      "cell_type": "code",
      "execution_count": 27,
      "metadata": {
        "collapsed": true,
        "id": "MWRq86JTJmSS"
      },
      "outputs": [],
      "source": [
        "def check_even(num):\n",
        "    return num % 2 == 0 "
      ]
    },
    {
      "cell_type": "code",
      "execution_count": 28,
      "metadata": {
        "collapsed": true,
        "id": "ZhtI3T3VJmSS"
      },
      "outputs": [],
      "source": [
        "nums = [0,1,2,3,4,5,6,7,8,9,10]"
      ]
    },
    {
      "cell_type": "code",
      "execution_count": 29,
      "metadata": {
        "id": "UmOddg-eJmST",
        "outputId": "f5762d2c-06e8-4ac2-fd31-6e81e056fded",
        "colab": {
          "base_uri": "https://localhost:8080/"
        }
      },
      "outputs": [
        {
          "output_type": "stream",
          "name": "stdout",
          "text": [
            "[0, 2, 4, 6, 8, 10]\n"
          ]
        }
      ],
      "source": [
        "#Inserta Aquí tu código\n",
        "def obtener_pares(nums):\n",
        "    pares = list(filter(check_even, nums))\n",
        "    return pares\n",
        "\n",
        "def check_even(num):\n",
        "    return num % 2 == 0\n",
        "\n",
        "nums = [0, 1, 2, 3, 4, 5, 6, 7, 8, 9, 10]\n",
        "pares = obtener_pares(nums)\n",
        "print(pares)"
      ]
    }
  ]
}